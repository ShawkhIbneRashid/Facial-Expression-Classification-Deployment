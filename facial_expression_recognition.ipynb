{
  "nbformat": 4,
  "nbformat_minor": 0,
  "metadata": {
    "colab": {
      "name": "facial_expression_recognition.ipynb",
      "provenance": [],
      "collapsed_sections": []
    },
    "kernelspec": {
      "name": "python3",
      "display_name": "Python 3"
    },
    "language_info": {
      "name": "python"
    }
  },
  "cells": [
    {
      "cell_type": "markdown",
      "metadata": {
        "id": "_Xl3_WU_vZWA"
      },
      "source": [
        "##Problem Description\n",
        "<p>In this project we have used a publicly available dataset from Kaggle. The dataset can be found at (https://www.kaggle.com/c/challenges-in-representation-learning-facial-expression-recognition-challenge/data). This is a facial expression recognition problem from images. The dataset contains a CSV file along with pixel values of 35887 images along with their class labels. There are 28,709 images for training, 3,589 examples for public testing and private test set consists of another 3,589 examples. Facial expression for these images can be of one of these seven classes (0=Angry, 1=Disgust, 2=Fear, 3=Happy, 4=Sad, 5=Surprise, 6=Neutral). To solve this multiclass classification problem we have used three CNN architectures (LeNet-5, a modified version of LeNet and pretrained ResNet-50) with differet parameters. The model which generated the best test accuracy was deployed."
      ]
    },
    {
      "cell_type": "code",
      "metadata": {
        "id": "VclpYRDm0DXO"
      },
      "source": [
        "#importing necessary libraries\n",
        "import os\n",
        "import numpy as np\n",
        "import pandas as pd\n",
        "import matplotlib.pyplot as plt\n",
        "from sklearn.model_selection import train_test_split\n",
        "import tensorflow.keras as keras\n",
        "import tensorflow.keras.models as models\n",
        "import tensorflow.keras.layers as layers\n",
        "import tensorflow.keras.losses as losses\n",
        "import tensorflow.keras.optimizers as optimizers\n",
        "from tensorflow.keras.callbacks import EarlyStopping\n",
        "from tensorflow.keras.callbacks import ReduceLROnPlateau\n",
        "from keras.utils.np_utils import to_categorical"
      ],
      "execution_count": null,
      "outputs": []
    },
    {
      "cell_type": "code",
      "metadata": {
        "colab": {
          "base_uri": "https://localhost:8080/"
        },
        "id": "9ryJqA09wYB9",
        "outputId": "09103db7-8822-4932-930c-6f3d53f4bdfe"
      },
      "source": [
        "#mounting Google drive with Google colab to read and write data in the drive\n",
        "from google.colab import drive\n",
        "drive.mount('/content/drive/')"
      ],
      "execution_count": null,
      "outputs": [
        {
          "output_type": "stream",
          "text": [
            "Mounted at /content/drive/\n"
          ],
          "name": "stdout"
        }
      ]
    },
    {
      "cell_type": "code",
      "metadata": {
        "id": "Rbv7P67nzhwf"
      },
      "source": [
        "#dataset is a CSV file. So reading the csv file using pandas library\n",
        "data = pd.read_csv('/content/drive/My Drive/Colab Notebooks/FER_Data/fer2013.csv')"
      ],
      "execution_count": null,
      "outputs": []
    },
    {
      "cell_type": "code",
      "metadata": {
        "colab": {
          "base_uri": "https://localhost:8080/",
          "height": 351
        },
        "id": "n1jwdbsnz_OS",
        "outputId": "61a147bc-ce69-41e3-856c-f7c78756d350"
      },
      "source": [
        "#showing data from first 10 rows of the csv file\n",
        "data.head(10)"
      ],
      "execution_count": null,
      "outputs": [
        {
          "output_type": "execute_result",
          "data": {
            "text/html": [
              "<div>\n",
              "<style scoped>\n",
              "    .dataframe tbody tr th:only-of-type {\n",
              "        vertical-align: middle;\n",
              "    }\n",
              "\n",
              "    .dataframe tbody tr th {\n",
              "        vertical-align: top;\n",
              "    }\n",
              "\n",
              "    .dataframe thead th {\n",
              "        text-align: right;\n",
              "    }\n",
              "</style>\n",
              "<table border=\"1\" class=\"dataframe\">\n",
              "  <thead>\n",
              "    <tr style=\"text-align: right;\">\n",
              "      <th></th>\n",
              "      <th>emotion</th>\n",
              "      <th>pixels</th>\n",
              "      <th>Usage</th>\n",
              "    </tr>\n",
              "  </thead>\n",
              "  <tbody>\n",
              "    <tr>\n",
              "      <th>0</th>\n",
              "      <td>0</td>\n",
              "      <td>70 80 82 72 58 58 60 63 54 58 60 48 89 115 121...</td>\n",
              "      <td>Training</td>\n",
              "    </tr>\n",
              "    <tr>\n",
              "      <th>1</th>\n",
              "      <td>0</td>\n",
              "      <td>151 150 147 155 148 133 111 140 170 174 182 15...</td>\n",
              "      <td>Training</td>\n",
              "    </tr>\n",
              "    <tr>\n",
              "      <th>2</th>\n",
              "      <td>2</td>\n",
              "      <td>231 212 156 164 174 138 161 173 182 200 106 38...</td>\n",
              "      <td>Training</td>\n",
              "    </tr>\n",
              "    <tr>\n",
              "      <th>3</th>\n",
              "      <td>4</td>\n",
              "      <td>24 32 36 30 32 23 19 20 30 41 21 22 32 34 21 1...</td>\n",
              "      <td>Training</td>\n",
              "    </tr>\n",
              "    <tr>\n",
              "      <th>4</th>\n",
              "      <td>6</td>\n",
              "      <td>4 0 0 0 0 0 0 0 0 0 0 0 3 15 23 28 48 50 58 84...</td>\n",
              "      <td>Training</td>\n",
              "    </tr>\n",
              "    <tr>\n",
              "      <th>5</th>\n",
              "      <td>2</td>\n",
              "      <td>55 55 55 55 55 54 60 68 54 85 151 163 170 179 ...</td>\n",
              "      <td>Training</td>\n",
              "    </tr>\n",
              "    <tr>\n",
              "      <th>6</th>\n",
              "      <td>4</td>\n",
              "      <td>20 17 19 21 25 38 42 42 46 54 56 62 63 66 82 1...</td>\n",
              "      <td>Training</td>\n",
              "    </tr>\n",
              "    <tr>\n",
              "      <th>7</th>\n",
              "      <td>3</td>\n",
              "      <td>77 78 79 79 78 75 60 55 47 48 58 73 77 79 57 5...</td>\n",
              "      <td>Training</td>\n",
              "    </tr>\n",
              "    <tr>\n",
              "      <th>8</th>\n",
              "      <td>3</td>\n",
              "      <td>85 84 90 121 101 102 133 153 153 169 177 189 1...</td>\n",
              "      <td>Training</td>\n",
              "    </tr>\n",
              "    <tr>\n",
              "      <th>9</th>\n",
              "      <td>2</td>\n",
              "      <td>255 254 255 254 254 179 122 107 95 124 149 150...</td>\n",
              "      <td>Training</td>\n",
              "    </tr>\n",
              "  </tbody>\n",
              "</table>\n",
              "</div>"
            ],
            "text/plain": [
              "   emotion                                             pixels     Usage\n",
              "0        0  70 80 82 72 58 58 60 63 54 58 60 48 89 115 121...  Training\n",
              "1        0  151 150 147 155 148 133 111 140 170 174 182 15...  Training\n",
              "2        2  231 212 156 164 174 138 161 173 182 200 106 38...  Training\n",
              "3        4  24 32 36 30 32 23 19 20 30 41 21 22 32 34 21 1...  Training\n",
              "4        6  4 0 0 0 0 0 0 0 0 0 0 0 3 15 23 28 48 50 58 84...  Training\n",
              "5        2  55 55 55 55 55 54 60 68 54 85 151 163 170 179 ...  Training\n",
              "6        4  20 17 19 21 25 38 42 42 46 54 56 62 63 66 82 1...  Training\n",
              "7        3  77 78 79 79 78 75 60 55 47 48 58 73 77 79 57 5...  Training\n",
              "8        3  85 84 90 121 101 102 133 153 153 169 177 189 1...  Training\n",
              "9        2  255 254 255 254 254 179 122 107 95 124 149 150...  Training"
            ]
          },
          "metadata": {
            "tags": []
          },
          "execution_count": 7
        }
      ]
    },
    {
      "cell_type": "code",
      "metadata": {
        "id": "_wBjTHR9-xvZ"
      },
      "source": [
        "#getting the location of the csv file in the variable file_name\n",
        "file_name = '/content/drive/My Drive/Colab Notebooks/FER_Data/fer2013.csv'"
      ],
      "execution_count": null,
      "outputs": []
    },
    {
      "cell_type": "code",
      "metadata": {
        "id": "yDWhRdMr8cke"
      },
      "source": [
        "# creating four empty lists x, y, x_test and y_test\n",
        "x = [] #for storing the training-set images\n",
        "y = [] #for storing the corresponding labels of the training-set images\n",
        "x_test = [] #for storing the test-set images\n",
        "y_test = [] #for storing the corresponding test-set labels\n",
        "\n",
        "count = 0\n",
        "for line in open(file_name):\n",
        "  if count == 0: #skipping the first row, which includes the column names\n",
        "    count = 1\n",
        "    continue\n",
        "  else:\n",
        "    row = line.split(',') #Row has three elements. The first one is the label, the second one is the image and the 3rd one is the Usage\n",
        "    if row[2] == 'Training\\n':\n",
        "      x.append([int(i)/255 for i in row[1].split()]) #converting the pixel data type from string to integer and coverting the value in range [0 to 1]\n",
        "      y.append(int(row[0])) #changing the data type of the label to integer and storing it in y\n",
        "    elif row[2] == 'PublicTest\\n': \n",
        "      x_test.append([int(i)/255 for i in row[1].split()])\n",
        "      y_test.append(int(row[0]))\n",
        "\n",
        "#converting to numpy arrays\n",
        "y = np.array(y)\n",
        "x = np.array(x)\n",
        "x_test = np.array(x_test)\n",
        "y_test = np.array(y_test)"
      ],
      "execution_count": null,
      "outputs": []
    },
    {
      "cell_type": "code",
      "metadata": {
        "id": "sXTqjzCGhxLF"
      },
      "source": [
        "#function to convert the shape of the image from 2304 to 48x48\n",
        "def im_reshp(x, x_test, x1):\n",
        "  x = [i.reshape(x1,x1) for i in x]\n",
        "  x = np.array(x)\n",
        "  x_test = [i.reshape(x1,x1) for i in x_test]\n",
        "  x_test = np.array(x_test)\n",
        "  return x, x_test"
      ],
      "execution_count": null,
      "outputs": []
    },
    {
      "cell_type": "code",
      "metadata": {
        "id": "r9e-0k-5zbkF"
      },
      "source": [
        "#calling the im_reshp function\n",
        "x, x_test = im_reshp(x, x_test, 48)"
      ],
      "execution_count": null,
      "outputs": []
    },
    {
      "cell_type": "code",
      "metadata": {
        "colab": {
          "base_uri": "https://localhost:8080/"
        },
        "id": "aQ2Z8r__8ieu",
        "outputId": "8435c77b-02f1-499a-d043-bace0d2fcf04"
      },
      "source": [
        "print(\"Size of train set: \" + str(x.shape))\n",
        "print(\"Size of test set: \" + str(x_test.shape))"
      ],
      "execution_count": null,
      "outputs": [
        {
          "output_type": "stream",
          "text": [
            "Size of train set: (28709, 48, 48)\n",
            "Size of test set: (3589, 48, 48)\n"
          ],
          "name": "stdout"
        }
      ]
    },
    {
      "cell_type": "code",
      "metadata": {
        "id": "9YwEiLIPZwSK",
        "colab": {
          "base_uri": "https://localhost:8080/"
        },
        "outputId": "2950f545-bc49-443c-85c1-a3765911c487"
      },
      "source": [
        "# showing the number of images per label of the dataset\n",
        "n_classes = len(np.unique(y))\n",
        "for class_n in range(n_classes):\n",
        "  class_indices = np.where(y == class_n)\n",
        "  n_samples = len(class_indices[0])\n",
        "  print(str(class_n) + \": \" + str(n_samples)) "
      ],
      "execution_count": null,
      "outputs": [
        {
          "output_type": "stream",
          "text": [
            "0: 3995\n",
            "1: 436\n",
            "2: 4097\n",
            "3: 7215\n",
            "4: 4830\n",
            "5: 3171\n",
            "6: 4965\n"
          ],
          "name": "stdout"
        }
      ]
    },
    {
      "cell_type": "code",
      "metadata": {
        "colab": {
          "base_uri": "https://localhost:8080/",
          "height": 160
        },
        "id": "aurEWEe67tiy",
        "outputId": "17c67b94-d0d0-4e18-aac6-90bc60bf4430"
      },
      "source": [
        "import random\n",
        "#dictionary containing the label and the corresponding facial expression\n",
        "dicti = {0:'Angry', 1:'Disgust', 2:'Fear', 3:'Happy', 4:'Sad', 5:'Surprise', 6:'Neutral'}\n",
        "#taking 5 random integer values in range [0, 28709]\n",
        "a = []\n",
        "for i in range(5):\n",
        "  a.append(random.randrange(0, x.shape[0], 1))\n",
        "# showing five random images from the training-set and their corresponding facial expressions\n",
        "fig, ax = plt.subplots(1, 5, figsize=(10,10))\n",
        "for i in range(5):\n",
        "  ax[i].imshow(x[a[i]], cmap='gray')\n",
        "  ax[i].set_title(dicti.get(y[a[i]]))\n",
        "  #print(dicti.get(y[a[i]]))"
      ],
      "execution_count": null,
      "outputs": [
        {
          "output_type": "display_data",
          "data": {
            "image/png": "[encoded data removed]",
            "text/plain": [
              "<Figure size 720x720 with 5 Axes>"
            ]
          },
          "metadata": {
            "tags": [],
            "needs_background": "light"
          }
        }
      ]
    },
    {
      "cell_type": "code",
      "metadata": {
        "id": "aHGweUaX7LTK"
      },
      "source": [
        "#splitting the training set into train-set and validation-set randomly\n",
        "def split_data(x,y):\n",
        "  x_train, x_val, y_train, y_val = train_test_split(x, y, test_size=0.1, random_state=0)\n",
        "  return x_train, x_val, y_train, y_val"
      ],
      "execution_count": null,
      "outputs": []
    },
    {
      "cell_type": "code",
      "metadata": {
        "id": "-oOtXKAOb1k9"
      },
      "source": [
        "#architecture of the LeNet-5 model by Yann LeCun\n",
        "def model_build_LeNet(input_shape, filters1, filters2, units1, units2, units3, ker_sz):\n",
        "  #input layer\n",
        "  input_layer = layers.Input((input_shape, input_shape, 1))\n",
        "\n",
        "  #convolutional layer input shape -> (n, input_shape, input_shape) output from convolution layer has shape -> (n, floor((input_shape+2*padding-kernel)/stride + 1), floor((input_shape+2*padding-kernel)/stride)+1), number of filters) \n",
        "  conv_layer1 = layers.Conv2D(filters=filters1, kernel_size=(ker_sz, ker_sz), strides=(1, 1), activation='relu')(input_layer)\n",
        "  \n",
        "  #max-pooling layer output shape -> (n, (input_shape+(2*padding)-pool_size[0])/strides[0] + 1), (input_shape+(2*padding)-pool_size[1])/strides[1] + 1)\n",
        "  pooling_layer1 = layers.MaxPooling2D(pool_size=(2, 2), strides=(2,2), padding='valid', data_format=None)(conv_layer1)\n",
        "\n",
        "  conv_layer2 = layers.Conv2D(filters=filters2, kernel_size=(ker_sz, ker_sz), strides=(1, 1), activation='relu')(pooling_layer1)\n",
        "  pooling_layer2 = layers.MaxPooling2D(pool_size=(2, 2), strides=(2,2), padding='valid', data_format=None)(conv_layer2)\n",
        "\n",
        "  #flatten layer\n",
        "  flatten_layer1 = layers.Flatten()(pooling_layer2)\n",
        "\n",
        "  #Dense layer with output shape of (n, units1), n is the batch size\n",
        "  Dense1 = layers.Dense(units=units1, activation='relu')(flatten_layer1)\n",
        "  #dropping connections with a probability of 10%\n",
        "  Droput1 = layers.Dropout(0.1)(Dense1)\n",
        "\n",
        "  Dense2 = layers.Dense(units=units2, activation='relu')(Droput1)\n",
        "\n",
        "  Droput2 = layers.Dropout(0.2)(Dense2)\n",
        "\n",
        "  output_layer = layers.Dense(units=units3, activation = 'softmax')(Droput2)\n",
        "\n",
        "  model = models.Model(inputs=input_layer, outputs=output_layer)\n",
        "\n",
        "  return model"
      ],
      "execution_count": null,
      "outputs": []
    },
    {
      "cell_type": "code",
      "metadata": {
        "id": "etkhyxj1IkWB"
      },
      "source": [
        "#compiling the model with categorical cross-entropy loss and Adam optimizer with learning rate of 0.00025 and considering the accuracy as metrics of the model\n",
        "def compile_model(model):\n",
        "  model.compile(loss=losses.categorical_crossentropy, optimizer=keras.optimizers.Adam(lr=.00025), metrics=['accuracy'])"
      ],
      "execution_count": null,
      "outputs": []
    },
    {
      "cell_type": "code",
      "metadata": {
        "id": "tb530ESrW0WH"
      },
      "source": [
        "#saving the weights of the epoch that generate the best validation accuracy\n",
        "def save_weights(model_number):\n",
        "  from tensorflow.keras.callbacks import ModelCheckpoint\n",
        "  checkpoint = ModelCheckpoint('/content/drive/My Drive/Colab Notebooks/weights/FER_model_weights/lenet_weights' + str(model_number) + '.hdf5', monitor='val_accuracy', verbose=1, save_best_only=True, mode='auto')\n",
        "  return checkpoint"
      ],
      "execution_count": null,
      "outputs": []
    },
    {
      "cell_type": "code",
      "metadata": {
        "id": "G8_nrwZUld-x"
      },
      "source": [
        "#reduce learning rate with a factor of 0.25 if the validation accuracy does not improve for 3 epochs and the minimum learning rate can be 0.00005\n",
        "def lr_reduce():\n",
        "  learning_rate_reduction = ReduceLROnPlateau(monitor='val_accuracy', patience=3, verbose=1, \n",
        "                                            factor=0.25, min_lr=0.00005)\n",
        "  return learning_rate_reduction"
      ],
      "execution_count": null,
      "outputs": []
    },
    {
      "cell_type": "code",
      "metadata": {
        "id": "dUgOcU68Yscn"
      },
      "source": [
        "#training the model\n",
        "def model_train(model, model_number, x, y):\n",
        "  compile_model(model) #compile model\n",
        "  learning_rate_reduction = lr_reduce()\n",
        "  checkpoint = save_weights(model_number)\n",
        "  x_train, x_val, y_train, y_val = split_data(x,y) #splitting the training data to training and validation data\n",
        "  # calling the model.fit function where the whole data-set will be trained thirty times and batch size is 100.\n",
        "  # to_categorical changes the list of y_train to a matrix i.e (n,1)->(n, # of labels)\n",
        "  model.fit(x_train, to_categorical(y_train), epochs=30, validation_data=(x_val,to_categorical(y_val)), verbose = 1, callbacks=[learning_rate_reduction, checkpoint], batch_size=100)"
      ],
      "execution_count": null,
      "outputs": []
    },
    {
      "cell_type": "code",
      "metadata": {
        "id": "1vFmqDvijg5E"
      },
      "source": [
        "# original shape of images in the data-set is 48x48. So shrinking it to 32x32. As the original LeNet-5 architecture had input shape of nx32x32x1. n is the batch size.\n",
        "import cv2\n",
        "def image_resize_shrink(img, x1):\n",
        "  re_img = []\n",
        "  for i in img:\n",
        "    re = cv2.resize(i, (x1,x1), interpolation=cv2.INTER_AREA)\n",
        "    re_img.append(re)\n",
        "  return re_img"
      ],
      "execution_count": null,
      "outputs": []
    },
    {
      "cell_type": "code",
      "metadata": {
        "id": "Zj030YpEjpJU"
      },
      "source": [
        "x_temp = np.array(image_resize_shrink(x, 32)) #changing the shape of x and storing it in x_temp\n",
        "x_test_temp = np.array(image_resize_shrink(x_test, 32)) #changing the shape of x_test and storing it in x_test_temp"
      ],
      "execution_count": null,
      "outputs": []
    },
    {
      "cell_type": "code",
      "metadata": {
        "id": "822KGGCsWsm_"
      },
      "source": [
        "model1 = model_build_LeNet(32, 6, 16, 120, 84, 7, 5) #calling the model_build_LeNet with the parameters used in the LeNet-5 paper\n",
        "filters1, filters2, units1, units2, units3, ker_sz"
      ],
      "execution_count": null,
      "outputs": []
    },
    {
      "cell_type": "code",
      "metadata": {
        "colab": {
          "base_uri": "https://localhost:8080/"
        },
        "id": "uTmPqVd1Hdgh",
        "outputId": "3e0f89fa-4faf-4d84-f68b-202cc281919c"
      },
      "source": [
        "model1.summary()"
      ],
      "execution_count": null,
      "outputs": [
        {
          "output_type": "stream",
          "text": [
            "Model: \"model\"\n",
            "_________________________________________________________________\n",
            "Layer (type)                 Output Shape              Param #   \n",
            "=================================================================\n",
            "input_1 (InputLayer)         [(None, 32, 32, 1)]       0         \n",
            "_________________________________________________________________\n",
            "conv2d (Conv2D)              (None, 28, 28, 6)         156       \n",
            "_________________________________________________________________\n",
            "max_pooling2d (MaxPooling2D) (None, 14, 14, 6)         0         \n",
            "_________________________________________________________________\n",
            "conv2d_1 (Conv2D)            (None, 10, 10, 16)        2416      \n",
            "_________________________________________________________________\n",
            "max_pooling2d_1 (MaxPooling2 (None, 5, 5, 16)          0         \n",
            "_________________________________________________________________\n",
            "flatten (Flatten)            (None, 400)               0         \n",
            "_________________________________________________________________\n",
            "dense (Dense)                (None, 120)               48120     \n",
            "_________________________________________________________________\n",
            "dropout (Dropout)            (None, 120)               0         \n",
            "_________________________________________________________________\n",
            "dense_1 (Dense)              (None, 84)                10164     \n",
            "_________________________________________________________________\n",
            "dropout_1 (Dropout)          (None, 84)                0         \n",
            "_________________________________________________________________\n",
            "dense_2 (Dense)              (None, 7)                 595       \n",
            "=================================================================\n",
            "Total params: 61,451\n",
            "Trainable params: 61,451\n",
            "Non-trainable params: 0\n",
            "_________________________________________________________________\n"
          ],
          "name": "stdout"
        }
      ]
    },
    {
      "cell_type": "code",
      "metadata": {
        "colab": {
          "base_uri": "https://localhost:8080/"
        },
        "id": "a3wAOBAU6IJw",
        "outputId": "68383bf2-e8c6-4e05-bd37-72856bb4ecff"
      },
      "source": [
        "model_train(model1, 1, x_temp, y) #calling the model_train function and training the model. Here the model_number = 1 parameter ensures that the weight of this model is stored as a unique file."
      ],
      "execution_count": null,
      "outputs": [
        {
          "output_type": "stream",
          "text": [
            "Epoch 1/30\n",
            "259/259 [==============================] - 31s 9ms/step - loss: 1.8453 - accuracy: 0.2328 - val_loss: 1.7446 - val_accuracy: 0.2825\n",
            "\n",
            "Epoch 00001: val_accuracy improved from -inf to 0.28248, saving model to /content/drive/My Drive/Colab Notebooks/weights/FER_model_weights/lenet_weights1.hdf5\n",
            "Epoch 2/30\n",
            "259/259 [==============================] - 2s 6ms/step - loss: 1.7355 - accuracy: 0.2997 - val_loss: 1.6608 - val_accuracy: 0.3546\n",
            "\n",
            "Epoch 00002: val_accuracy improved from 0.28248 to 0.35458, saving model to /content/drive/My Drive/Colab Notebooks/weights/FER_model_weights/lenet_weights1.hdf5\n",
            "Epoch 3/30\n",
            "259/259 [==============================] - 2s 6ms/step - loss: 1.6646 - accuracy: 0.3470 - val_loss: 1.6075 - val_accuracy: 0.3741\n",
            "\n",
            "Epoch 00003: val_accuracy improved from 0.35458 to 0.37409, saving model to /content/drive/My Drive/Colab Notebooks/weights/FER_model_weights/lenet_weights1.hdf5\n",
            "Epoch 4/30\n",
            "259/259 [==============================] - 2s 6ms/step - loss: 1.6228 - accuracy: 0.3720 - val_loss: 1.5693 - val_accuracy: 0.3804\n",
            "\n",
            "Epoch 00004: val_accuracy improved from 0.37409 to 0.38036, saving model to /content/drive/My Drive/Colab Notebooks/weights/FER_model_weights/lenet_weights1.hdf5\n",
            "Epoch 5/30\n",
            "259/259 [==============================] - 2s 6ms/step - loss: 1.5831 - accuracy: 0.3892 - val_loss: 1.5403 - val_accuracy: 0.4016\n",
            "\n",
            "Epoch 00005: val_accuracy improved from 0.38036 to 0.40160, saving model to /content/drive/My Drive/Colab Notebooks/weights/FER_model_weights/lenet_weights1.hdf5\n",
            "Epoch 6/30\n",
            "259/259 [==============================] - 2s 7ms/step - loss: 1.5446 - accuracy: 0.4068 - val_loss: 1.5124 - val_accuracy: 0.4068\n",
            "\n",
            "Epoch 00006: val_accuracy improved from 0.40160 to 0.40683, saving model to /content/drive/My Drive/Colab Notebooks/weights/FER_model_weights/lenet_weights1.hdf5\n",
            "Epoch 7/30\n",
            "259/259 [==============================] - 2s 7ms/step - loss: 1.5181 - accuracy: 0.4105 - val_loss: 1.4969 - val_accuracy: 0.4134\n",
            "\n",
            "Epoch 00007: val_accuracy improved from 0.40683 to 0.41344, saving model to /content/drive/My Drive/Colab Notebooks/weights/FER_model_weights/lenet_weights1.hdf5\n",
            "Epoch 8/30\n",
            "259/259 [==============================] - 2s 6ms/step - loss: 1.4911 - accuracy: 0.4265 - val_loss: 1.4687 - val_accuracy: 0.4260\n",
            "\n",
            "Epoch 00008: val_accuracy improved from 0.41344 to 0.42598, saving model to /content/drive/My Drive/Colab Notebooks/weights/FER_model_weights/lenet_weights1.hdf5\n",
            "Epoch 9/30\n",
            "259/259 [==============================] - 2s 6ms/step - loss: 1.4793 - accuracy: 0.4297 - val_loss: 1.4626 - val_accuracy: 0.4312\n",
            "\n",
            "Epoch 00009: val_accuracy improved from 0.42598 to 0.43121, saving model to /content/drive/My Drive/Colab Notebooks/weights/FER_model_weights/lenet_weights1.hdf5\n",
            "Epoch 10/30\n",
            "259/259 [==============================] - 2s 6ms/step - loss: 1.4519 - accuracy: 0.4392 - val_loss: 1.4389 - val_accuracy: 0.4472\n",
            "\n",
            "Epoch 00010: val_accuracy improved from 0.43121 to 0.44723, saving model to /content/drive/My Drive/Colab Notebooks/weights/FER_model_weights/lenet_weights1.hdf5\n",
            "Epoch 11/30\n",
            "259/259 [==============================] - 2s 6ms/step - loss: 1.4458 - accuracy: 0.4426 - val_loss: 1.4232 - val_accuracy: 0.4465\n",
            "\n",
            "Epoch 00011: val_accuracy did not improve from 0.44723\n",
            "Epoch 12/30\n",
            "259/259 [==============================] - 2s 7ms/step - loss: 1.4214 - accuracy: 0.4548 - val_loss: 1.4121 - val_accuracy: 0.4528\n",
            "\n",
            "Epoch 00012: val_accuracy improved from 0.44723 to 0.45280, saving model to /content/drive/My Drive/Colab Notebooks/weights/FER_model_weights/lenet_weights1.hdf5\n",
            "Epoch 13/30\n",
            "259/259 [==============================] - 2s 6ms/step - loss: 1.4130 - accuracy: 0.4582 - val_loss: 1.4009 - val_accuracy: 0.4535\n",
            "\n",
            "Epoch 00013: val_accuracy improved from 0.45280 to 0.45350, saving model to /content/drive/My Drive/Colab Notebooks/weights/FER_model_weights/lenet_weights1.hdf5\n",
            "Epoch 14/30\n",
            "259/259 [==============================] - 2s 6ms/step - loss: 1.4048 - accuracy: 0.4627 - val_loss: 1.3922 - val_accuracy: 0.4594\n",
            "\n",
            "Epoch 00014: val_accuracy improved from 0.45350 to 0.45942, saving model to /content/drive/My Drive/Colab Notebooks/weights/FER_model_weights/lenet_weights1.hdf5\n",
            "Epoch 15/30\n",
            "259/259 [==============================] - 2s 6ms/step - loss: 1.3849 - accuracy: 0.4745 - val_loss: 1.3835 - val_accuracy: 0.4626\n",
            "\n",
            "Epoch 00015: val_accuracy improved from 0.45942 to 0.46256, saving model to /content/drive/My Drive/Colab Notebooks/weights/FER_model_weights/lenet_weights1.hdf5\n",
            "Epoch 16/30\n",
            "259/259 [==============================] - 2s 7ms/step - loss: 1.3713 - accuracy: 0.4786 - val_loss: 1.3901 - val_accuracy: 0.4580\n",
            "\n",
            "Epoch 00016: val_accuracy did not improve from 0.46256\n",
            "Epoch 17/30\n",
            "259/259 [==============================] - 2s 7ms/step - loss: 1.3624 - accuracy: 0.4792 - val_loss: 1.3757 - val_accuracy: 0.4653\n",
            "\n",
            "Epoch 00017: val_accuracy improved from 0.46256 to 0.46534, saving model to /content/drive/My Drive/Colab Notebooks/weights/FER_model_weights/lenet_weights1.hdf5\n",
            "Epoch 18/30\n",
            "259/259 [==============================] - 2s 6ms/step - loss: 1.3562 - accuracy: 0.4776 - val_loss: 1.3705 - val_accuracy: 0.4660\n",
            "\n",
            "Epoch 00018: val_accuracy improved from 0.46534 to 0.46604, saving model to /content/drive/My Drive/Colab Notebooks/weights/FER_model_weights/lenet_weights1.hdf5\n",
            "Epoch 19/30\n",
            "259/259 [==============================] - 2s 7ms/step - loss: 1.3335 - accuracy: 0.4912 - val_loss: 1.3616 - val_accuracy: 0.4695\n",
            "\n",
            "Epoch 00019: val_accuracy improved from 0.46604 to 0.46952, saving model to /content/drive/My Drive/Colab Notebooks/weights/FER_model_weights/lenet_weights1.hdf5\n",
            "Epoch 20/30\n",
            "259/259 [==============================] - 2s 6ms/step - loss: 1.3255 - accuracy: 0.4915 - val_loss: 1.3470 - val_accuracy: 0.4779\n",
            "\n",
            "Epoch 00020: val_accuracy improved from 0.46952 to 0.47788, saving model to /content/drive/My Drive/Colab Notebooks/weights/FER_model_weights/lenet_weights1.hdf5\n",
            "Epoch 21/30\n",
            "259/259 [==============================] - 2s 7ms/step - loss: 1.3164 - accuracy: 0.4961 - val_loss: 1.3429 - val_accuracy: 0.4814\n",
            "\n",
            "Epoch 00021: val_accuracy improved from 0.47788 to 0.48137, saving model to /content/drive/My Drive/Colab Notebooks/weights/FER_model_weights/lenet_weights1.hdf5\n",
            "Epoch 22/30\n",
            "259/259 [==============================] - 2s 7ms/step - loss: 1.2952 - accuracy: 0.5045 - val_loss: 1.3461 - val_accuracy: 0.4821\n",
            "\n",
            "Epoch 00022: val_accuracy improved from 0.48137 to 0.48206, saving model to /content/drive/My Drive/Colab Notebooks/weights/FER_model_weights/lenet_weights1.hdf5\n",
            "Epoch 23/30\n",
            "259/259 [==============================] - 2s 7ms/step - loss: 1.2869 - accuracy: 0.5089 - val_loss: 1.3422 - val_accuracy: 0.4796\n",
            "\n",
            "Epoch 00023: val_accuracy did not improve from 0.48206\n",
            "Epoch 24/30\n",
            "259/259 [==============================] - 2s 7ms/step - loss: 1.2852 - accuracy: 0.5065 - val_loss: 1.3303 - val_accuracy: 0.4845\n",
            "\n",
            "Epoch 00024: val_accuracy improved from 0.48206 to 0.48450, saving model to /content/drive/My Drive/Colab Notebooks/weights/FER_model_weights/lenet_weights1.hdf5\n",
            "Epoch 25/30\n",
            "259/259 [==============================] - 2s 6ms/step - loss: 1.2762 - accuracy: 0.5147 - val_loss: 1.3341 - val_accuracy: 0.4859\n",
            "\n",
            "Epoch 00025: val_accuracy improved from 0.48450 to 0.48589, saving model to /content/drive/My Drive/Colab Notebooks/weights/FER_model_weights/lenet_weights1.hdf5\n",
            "Epoch 26/30\n",
            "259/259 [==============================] - 2s 6ms/step - loss: 1.2664 - accuracy: 0.5166 - val_loss: 1.3246 - val_accuracy: 0.4915\n",
            "\n",
            "Epoch 00026: val_accuracy improved from 0.48589 to 0.49147, saving model to /content/drive/My Drive/Colab Notebooks/weights/FER_model_weights/lenet_weights1.hdf5\n",
            "Epoch 27/30\n",
            "259/259 [==============================] - 2s 7ms/step - loss: 1.2474 - accuracy: 0.5264 - val_loss: 1.3266 - val_accuracy: 0.4897\n",
            "\n",
            "Epoch 00027: val_accuracy did not improve from 0.49147\n",
            "Epoch 28/30\n",
            "259/259 [==============================] - 2s 6ms/step - loss: 1.2538 - accuracy: 0.5264 - val_loss: 1.3233 - val_accuracy: 0.4953\n",
            "\n",
            "Epoch 00028: val_accuracy improved from 0.49147 to 0.49530, saving model to /content/drive/My Drive/Colab Notebooks/weights/FER_model_weights/lenet_weights1.hdf5\n",
            "Epoch 29/30\n",
            "259/259 [==============================] - 2s 6ms/step - loss: 1.2411 - accuracy: 0.5283 - val_loss: 1.3264 - val_accuracy: 0.4824\n",
            "\n",
            "Epoch 00029: val_accuracy did not improve from 0.49530\n",
            "Epoch 30/30\n",
            "259/259 [==============================] - 2s 7ms/step - loss: 1.2220 - accuracy: 0.5383 - val_loss: 1.3182 - val_accuracy: 0.4946\n",
            "\n",
            "Epoch 00030: val_accuracy did not improve from 0.49530\n"
          ],
          "name": "stdout"
        }
      ]
    },
    {
      "cell_type": "code",
      "metadata": {
        "id": "b17_62BokuNy"
      },
      "source": [
        "#returning the address of the saved weights of a particular model\n",
        "def weight_add(model_number):\n",
        "  return '/content/drive/My Drive/Colab Notebooks/weights/FER_model_weights/lenet_weights' + str(model_number) + '.hdf5'"
      ],
      "execution_count": null,
      "outputs": []
    },
    {
      "cell_type": "code",
      "metadata": {
        "id": "URe3K-4bk0EV"
      },
      "source": [
        "#loading the weights of the model1 which generated the best validation accuracy\n",
        "model1.load_weights(weight_add(1))"
      ],
      "execution_count": null,
      "outputs": []
    },
    {
      "cell_type": "code",
      "metadata": {
        "id": "r3nzmuktZHmL",
        "colab": {
          "base_uri": "https://localhost:8080/"
        },
        "outputId": "356bc819-1635-4682-be69-a0b9f981757d"
      },
      "source": [
        "#evaluating the model against the test set\n",
        "model1.evaluate(x=x_test_temp, y=to_categorical(y_test))"
      ],
      "execution_count": null,
      "outputs": [
        {
          "output_type": "stream",
          "text": [
            "113/113 [==============================] - 0s 4ms/step - loss: 1.3263 - accuracy: 0.4890\n"
          ],
          "name": "stdout"
        },
        {
          "output_type": "execute_result",
          "data": {
            "text/plain": [
              "[1.326271653175354, 0.48899415135383606]"
            ]
          },
          "metadata": {
            "tags": []
          },
          "execution_count": 20
        }
      ]
    },
    {
      "cell_type": "code",
      "metadata": {
        "id": "Zjl5avWASxBS"
      },
      "source": [
        "#modimied LeNet architecture according to the paper by Pierre Sermanet and Yann LeCun published in 2011. Paper: Trafﬁc Sign Recognition with Multi-Scale Convolutional Networks\n",
        "def model_build_LeNet_mod(input_shape, filters1, filters2, filters3, units1, units2, units3, ker_sz, padding):\n",
        "  \n",
        "  input_layer = layers.Input((input_shape, input_shape, 1))\n",
        "\n",
        "  \n",
        "  conv_layer1 = layers.Conv2D(filters=filters1, kernel_size=(ker_sz, ker_sz), padding = padding, strides=(1, 1), activation='relu')(input_layer)\n",
        "  pooling_layer1 = layers.MaxPooling2D(pool_size=(2, 2), strides=(2,2), padding= padding, data_format=None)(conv_layer1)\n",
        "\n",
        "  conv_layer2 = layers.Conv2D(filters=filters2, kernel_size=(ker_sz, ker_sz), padding = padding, strides=(1, 1), activation='relu')(pooling_layer1)\n",
        "  pooling_layer2 = layers.MaxPooling2D(pool_size=(2, 2), strides=(2,2), padding=padding, data_format=None)(conv_layer2)\n",
        "\n",
        "  flatten_layer2 = layers.Flatten()(pooling_layer2)\n",
        "\n",
        "  conv_layer3 = layers.Conv2D(filters=filters3, kernel_size=(ker_sz, ker_sz), strides=(1, 1), activation='relu')(pooling_layer2)\n",
        "\n",
        "  flatten_layer1 = layers.Flatten()(conv_layer3)\n",
        "\n",
        "  # Modified LeNet has three convolutional layers. Output from the pooling_layer2 is flattened and then added with the flattened output of conv_layer3\n",
        "  Concat = layers.concatenate([flatten_layer1, flatten_layer2])\n",
        "\n",
        "  Dense1 = layers.Dense(units=units1, activation='relu')(Concat)\n",
        "\n",
        "  Droput1 = layers.Dropout(0.1)(Dense1)\n",
        "\n",
        "  Dense2 = layers.Dense(units=units2, activation='relu')(Droput1)\n",
        "\n",
        "  Droput2 = layers.Dropout(0.2)(Dense2)\n",
        "\n",
        "  output_layer = layers.Dense(units=units3, activation = 'softmax')(Droput2)\n",
        "\n",
        "  model = models.Model(inputs=input_layer, outputs=output_layer)\n",
        "\n",
        "  return model"
      ],
      "execution_count": null,
      "outputs": []
    },
    {
      "cell_type": "code",
      "metadata": {
        "id": "jMymY_FfOuld"
      },
      "source": [
        "#model2 is the modified LeNet with the same parameters used in model1 except the 3rd cov layer has 400 hidden neurons\n",
        "model2 = model_build_LeNet_mod(32, 6, 16, 400, 120, 84, 7, 5, 'valid')"
      ],
      "execution_count": null,
      "outputs": []
    },
    {
      "cell_type": "code",
      "metadata": {
        "colab": {
          "base_uri": "https://localhost:8080/"
        },
        "id": "dW8mJ1c4PHF-",
        "outputId": "e5df2692-c650-401d-8fe6-86669a42fbe5"
      },
      "source": [
        "model2.summary()"
      ],
      "execution_count": null,
      "outputs": [
        {
          "output_type": "stream",
          "text": [
            "Model: \"model_1\"\n",
            "__________________________________________________________________________________________________\n",
            "Layer (type)                    Output Shape         Param #     Connected to                     \n",
            "==================================================================================================\n",
            "input_2 (InputLayer)            [(None, 32, 32, 1)]  0                                            \n",
            "__________________________________________________________________________________________________\n",
            "conv2d_2 (Conv2D)               (None, 28, 28, 6)    156         input_2[0][0]                    \n",
            "__________________________________________________________________________________________________\n",
            "max_pooling2d_2 (MaxPooling2D)  (None, 14, 14, 6)    0           conv2d_2[0][0]                   \n",
            "__________________________________________________________________________________________________\n",
            "conv2d_3 (Conv2D)               (None, 10, 10, 16)   2416        max_pooling2d_2[0][0]            \n",
            "__________________________________________________________________________________________________\n",
            "max_pooling2d_3 (MaxPooling2D)  (None, 5, 5, 16)     0           conv2d_3[0][0]                   \n",
            "__________________________________________________________________________________________________\n",
            "conv2d_4 (Conv2D)               (None, 1, 1, 400)    160400      max_pooling2d_3[0][0]            \n",
            "__________________________________________________________________________________________________\n",
            "flatten_2 (Flatten)             (None, 400)          0           conv2d_4[0][0]                   \n",
            "__________________________________________________________________________________________________\n",
            "flatten_1 (Flatten)             (None, 400)          0           max_pooling2d_3[0][0]            \n",
            "__________________________________________________________________________________________________\n",
            "concatenate (Concatenate)       (None, 800)          0           flatten_2[0][0]                  \n",
            "                                                                 flatten_1[0][0]                  \n",
            "__________________________________________________________________________________________________\n",
            "dense_3 (Dense)                 (None, 120)          96120       concatenate[0][0]                \n",
            "__________________________________________________________________________________________________\n",
            "dropout_2 (Dropout)             (None, 120)          0           dense_3[0][0]                    \n",
            "__________________________________________________________________________________________________\n",
            "dense_4 (Dense)                 (None, 84)           10164       dropout_2[0][0]                  \n",
            "__________________________________________________________________________________________________\n",
            "dropout_3 (Dropout)             (None, 84)           0           dense_4[0][0]                    \n",
            "__________________________________________________________________________________________________\n",
            "dense_5 (Dense)                 (None, 7)            595         dropout_3[0][0]                  \n",
            "==================================================================================================\n",
            "Total params: 269,851\n",
            "Trainable params: 269,851\n",
            "Non-trainable params: 0\n",
            "__________________________________________________________________________________________________\n"
          ],
          "name": "stdout"
        }
      ]
    },
    {
      "cell_type": "code",
      "metadata": {
        "colab": {
          "base_uri": "https://localhost:8080/"
        },
        "id": "d8L7aV0PPPe1",
        "outputId": "648c8c41-70b9-4ea7-ccb2-f1793c946785"
      },
      "source": [
        "model_train(model2, 2, x_temp, y)"
      ],
      "execution_count": null,
      "outputs": [
        {
          "output_type": "stream",
          "text": [
            "Epoch 1/30\n",
            "259/259 [==============================] - 3s 9ms/step - loss: 1.8392 - accuracy: 0.2383 - val_loss: 1.7276 - val_accuracy: 0.2982\n",
            "\n",
            "Epoch 00001: val_accuracy improved from -inf to 0.29815, saving model to /content/drive/My Drive/Colab Notebooks/weights/FER_model_weights/lenet_weights2.hdf5\n",
            "Epoch 2/30\n",
            "259/259 [==============================] - 2s 8ms/step - loss: 1.7126 - accuracy: 0.3217 - val_loss: 1.6440 - val_accuracy: 0.3511\n",
            "\n",
            "Epoch 00002: val_accuracy improved from 0.29815 to 0.35110, saving model to /content/drive/My Drive/Colab Notebooks/weights/FER_model_weights/lenet_weights2.hdf5\n",
            "Epoch 3/30\n",
            "259/259 [==============================] - 2s 8ms/step - loss: 1.6504 - accuracy: 0.3545 - val_loss: 1.6156 - val_accuracy: 0.3682\n",
            "\n",
            "Epoch 00003: val_accuracy improved from 0.35110 to 0.36816, saving model to /content/drive/My Drive/Colab Notebooks/weights/FER_model_weights/lenet_weights2.hdf5\n",
            "Epoch 4/30\n",
            "259/259 [==============================] - 2s 8ms/step - loss: 1.6061 - accuracy: 0.3750 - val_loss: 1.5814 - val_accuracy: 0.3856\n",
            "\n",
            "Epoch 00004: val_accuracy improved from 0.36816 to 0.38558, saving model to /content/drive/My Drive/Colab Notebooks/weights/FER_model_weights/lenet_weights2.hdf5\n",
            "Epoch 5/30\n",
            "259/259 [==============================] - 2s 8ms/step - loss: 1.5831 - accuracy: 0.3832 - val_loss: 1.5361 - val_accuracy: 0.3988\n",
            "\n",
            "Epoch 00005: val_accuracy improved from 0.38558 to 0.39882, saving model to /content/drive/My Drive/Colab Notebooks/weights/FER_model_weights/lenet_weights2.hdf5\n",
            "Epoch 6/30\n",
            "259/259 [==============================] - 2s 8ms/step - loss: 1.5421 - accuracy: 0.4074 - val_loss: 1.5210 - val_accuracy: 0.4121\n",
            "\n",
            "Epoch 00006: val_accuracy improved from 0.39882 to 0.41205, saving model to /content/drive/My Drive/Colab Notebooks/weights/FER_model_weights/lenet_weights2.hdf5\n",
            "Epoch 7/30\n",
            "259/259 [==============================] - 2s 8ms/step - loss: 1.5009 - accuracy: 0.4191 - val_loss: 1.4872 - val_accuracy: 0.4208\n",
            "\n",
            "Epoch 00007: val_accuracy improved from 0.41205 to 0.42076, saving model to /content/drive/My Drive/Colab Notebooks/weights/FER_model_weights/lenet_weights2.hdf5\n",
            "Epoch 8/30\n",
            "259/259 [==============================] - 2s 8ms/step - loss: 1.4752 - accuracy: 0.4319 - val_loss: 1.4597 - val_accuracy: 0.4399\n",
            "\n",
            "Epoch 00008: val_accuracy improved from 0.42076 to 0.43992, saving model to /content/drive/My Drive/Colab Notebooks/weights/FER_model_weights/lenet_weights2.hdf5\n",
            "Epoch 9/30\n",
            "259/259 [==============================] - 2s 8ms/step - loss: 1.4544 - accuracy: 0.4396 - val_loss: 1.4364 - val_accuracy: 0.4420\n",
            "\n",
            "Epoch 00009: val_accuracy improved from 0.43992 to 0.44201, saving model to /content/drive/My Drive/Colab Notebooks/weights/FER_model_weights/lenet_weights2.hdf5\n",
            "Epoch 10/30\n",
            "259/259 [==============================] - 2s 8ms/step - loss: 1.4291 - accuracy: 0.4536 - val_loss: 1.4301 - val_accuracy: 0.4451\n",
            "\n",
            "Epoch 00010: val_accuracy improved from 0.44201 to 0.44514, saving model to /content/drive/My Drive/Colab Notebooks/weights/FER_model_weights/lenet_weights2.hdf5\n",
            "Epoch 11/30\n",
            "259/259 [==============================] - 2s 8ms/step - loss: 1.4028 - accuracy: 0.4621 - val_loss: 1.4202 - val_accuracy: 0.4528\n",
            "\n",
            "Epoch 00011: val_accuracy improved from 0.44514 to 0.45280, saving model to /content/drive/My Drive/Colab Notebooks/weights/FER_model_weights/lenet_weights2.hdf5\n",
            "Epoch 12/30\n",
            "259/259 [==============================] - 2s 8ms/step - loss: 1.3922 - accuracy: 0.4697 - val_loss: 1.3982 - val_accuracy: 0.4601\n",
            "\n",
            "Epoch 00012: val_accuracy improved from 0.45280 to 0.46012, saving model to /content/drive/My Drive/Colab Notebooks/weights/FER_model_weights/lenet_weights2.hdf5\n",
            "Epoch 13/30\n",
            "259/259 [==============================] - 2s 8ms/step - loss: 1.3700 - accuracy: 0.4774 - val_loss: 1.3911 - val_accuracy: 0.4653\n",
            "\n",
            "Epoch 00013: val_accuracy improved from 0.46012 to 0.46534, saving model to /content/drive/My Drive/Colab Notebooks/weights/FER_model_weights/lenet_weights2.hdf5\n",
            "Epoch 14/30\n",
            "259/259 [==============================] - 2s 8ms/step - loss: 1.3366 - accuracy: 0.4881 - val_loss: 1.3715 - val_accuracy: 0.4730\n",
            "\n",
            "Epoch 00014: val_accuracy improved from 0.46534 to 0.47301, saving model to /content/drive/My Drive/Colab Notebooks/weights/FER_model_weights/lenet_weights2.hdf5\n",
            "Epoch 15/30\n",
            "259/259 [==============================] - 2s 8ms/step - loss: 1.3217 - accuracy: 0.4914 - val_loss: 1.3854 - val_accuracy: 0.4695\n",
            "\n",
            "Epoch 00015: val_accuracy did not improve from 0.47301\n",
            "Epoch 16/30\n",
            "259/259 [==============================] - 2s 8ms/step - loss: 1.3128 - accuracy: 0.5054 - val_loss: 1.3737 - val_accuracy: 0.4765\n",
            "\n",
            "Epoch 00016: val_accuracy improved from 0.47301 to 0.47649, saving model to /content/drive/My Drive/Colab Notebooks/weights/FER_model_weights/lenet_weights2.hdf5\n",
            "Epoch 17/30\n",
            "259/259 [==============================] - 2s 8ms/step - loss: 1.2757 - accuracy: 0.5178 - val_loss: 1.3566 - val_accuracy: 0.4890\n",
            "\n",
            "Epoch 00017: val_accuracy improved from 0.47649 to 0.48903, saving model to /content/drive/My Drive/Colab Notebooks/weights/FER_model_weights/lenet_weights2.hdf5\n",
            "Epoch 18/30\n",
            "259/259 [==============================] - 2s 8ms/step - loss: 1.2585 - accuracy: 0.5242 - val_loss: 1.3481 - val_accuracy: 0.4869\n",
            "\n",
            "Epoch 00018: val_accuracy did not improve from 0.48903\n",
            "Epoch 19/30\n",
            "259/259 [==============================] - 2s 8ms/step - loss: 1.2393 - accuracy: 0.5290 - val_loss: 1.3497 - val_accuracy: 0.4866\n",
            "\n",
            "Epoch 00019: val_accuracy did not improve from 0.48903\n",
            "Epoch 20/30\n",
            "259/259 [==============================] - 2s 8ms/step - loss: 1.2236 - accuracy: 0.5402 - val_loss: 1.3430 - val_accuracy: 0.4887\n",
            "\n",
            "Epoch 00020: ReduceLROnPlateau reducing learning rate to 6.25000029685907e-05.\n",
            "\n",
            "Epoch 00020: val_accuracy did not improve from 0.48903\n",
            "Epoch 21/30\n",
            "259/259 [==============================] - 2s 8ms/step - loss: 1.1891 - accuracy: 0.5554 - val_loss: 1.3305 - val_accuracy: 0.4960\n",
            "\n",
            "Epoch 00021: val_accuracy improved from 0.48903 to 0.49599, saving model to /content/drive/My Drive/Colab Notebooks/weights/FER_model_weights/lenet_weights2.hdf5\n",
            "Epoch 22/30\n",
            "259/259 [==============================] - 2s 8ms/step - loss: 1.1645 - accuracy: 0.5605 - val_loss: 1.3273 - val_accuracy: 0.4967\n",
            "\n",
            "Epoch 00022: val_accuracy improved from 0.49599 to 0.49669, saving model to /content/drive/My Drive/Colab Notebooks/weights/FER_model_weights/lenet_weights2.hdf5\n",
            "Epoch 23/30\n",
            "259/259 [==============================] - 2s 8ms/step - loss: 1.1536 - accuracy: 0.5620 - val_loss: 1.3266 - val_accuracy: 0.4967\n",
            "\n",
            "Epoch 00023: val_accuracy did not improve from 0.49669\n",
            "Epoch 24/30\n",
            "259/259 [==============================] - 2s 8ms/step - loss: 1.1556 - accuracy: 0.5671 - val_loss: 1.3289 - val_accuracy: 0.4970\n",
            "\n",
            "Epoch 00024: val_accuracy improved from 0.49669 to 0.49704, saving model to /content/drive/My Drive/Colab Notebooks/weights/FER_model_weights/lenet_weights2.hdf5\n",
            "Epoch 25/30\n",
            "259/259 [==============================] - 2s 8ms/step - loss: 1.1464 - accuracy: 0.5725 - val_loss: 1.3414 - val_accuracy: 0.4970\n",
            "\n",
            "Epoch 00025: val_accuracy did not improve from 0.49704\n",
            "Epoch 26/30\n",
            "259/259 [==============================] - 2s 8ms/step - loss: 1.1336 - accuracy: 0.5784 - val_loss: 1.3294 - val_accuracy: 0.4984\n",
            "\n",
            "Epoch 00026: val_accuracy improved from 0.49704 to 0.49843, saving model to /content/drive/My Drive/Colab Notebooks/weights/FER_model_weights/lenet_weights2.hdf5\n",
            "Epoch 27/30\n",
            "259/259 [==============================] - 2s 8ms/step - loss: 1.1391 - accuracy: 0.5739 - val_loss: 1.3296 - val_accuracy: 0.5033\n",
            "\n",
            "Epoch 00027: val_accuracy improved from 0.49843 to 0.50331, saving model to /content/drive/My Drive/Colab Notebooks/weights/FER_model_weights/lenet_weights2.hdf5\n",
            "Epoch 28/30\n",
            "259/259 [==============================] - 2s 8ms/step - loss: 1.1289 - accuracy: 0.5768 - val_loss: 1.3323 - val_accuracy: 0.5044\n",
            "\n",
            "Epoch 00028: val_accuracy improved from 0.50331 to 0.50435, saving model to /content/drive/My Drive/Colab Notebooks/weights/FER_model_weights/lenet_weights2.hdf5\n",
            "Epoch 29/30\n",
            "259/259 [==============================] - 2s 8ms/step - loss: 1.1238 - accuracy: 0.5788 - val_loss: 1.3279 - val_accuracy: 0.5023\n",
            "\n",
            "Epoch 00029: val_accuracy did not improve from 0.50435\n",
            "Epoch 30/30\n",
            "259/259 [==============================] - 2s 9ms/step - loss: 1.1209 - accuracy: 0.5861 - val_loss: 1.3310 - val_accuracy: 0.5051\n",
            "\n",
            "Epoch 00030: val_accuracy improved from 0.50435 to 0.50505, saving model to /content/drive/My Drive/Colab Notebooks/weights/FER_model_weights/lenet_weights2.hdf5\n"
          ],
          "name": "stdout"
        }
      ]
    },
    {
      "cell_type": "code",
      "metadata": {
        "id": "WrRrFFFUQI44"
      },
      "source": [
        "model2.load_weights(weight_add(2))"
      ],
      "execution_count": null,
      "outputs": []
    },
    {
      "cell_type": "code",
      "metadata": {
        "colab": {
          "base_uri": "https://localhost:8080/"
        },
        "id": "b2T-l8zoPgJG",
        "outputId": "1ea4bfba-f268-4511-ffd9-87b700616cee"
      },
      "source": [
        "model2.evaluate(x=x_test_temp, y=to_categorical(y_test))"
      ],
      "execution_count": null,
      "outputs": [
        {
          "output_type": "stream",
          "text": [
            "113/113 [==============================] - 0s 4ms/step - loss: 1.3474 - accuracy: 0.4982\n"
          ],
          "name": "stdout"
        },
        {
          "output_type": "execute_result",
          "data": {
            "text/plain": [
              "[1.3474482297897339, 0.49818891286849976]"
            ]
          },
          "metadata": {
            "tags": []
          },
          "execution_count": 27
        }
      ]
    },
    {
      "cell_type": "code",
      "metadata": {
        "id": "GvLmMajLITal"
      },
      "source": [
        "#model3 is the modified LeNet architecture with different parametr values. \n",
        "#Input shape is nx32x32x1, 32, 128 & 256 filters in the 1st, 2nd and 3rd conv layers. 256, 64 and 7 denotes the output shape of the 1st, 2nd and 3rd dense layers respectively.\n",
        "# 7 output numbers are generated from the last dense layer as there are 7 labels in the dataset.\n",
        "model3 = model_build_LeNet_mod(32, 32, 128, 256, 256, 64, 7, 3, 'same')"
      ],
      "execution_count": null,
      "outputs": []
    },
    {
      "cell_type": "code",
      "metadata": {
        "colab": {
          "base_uri": "https://localhost:8080/"
        },
        "id": "cgCk_MxwJW6D",
        "outputId": "ba251e2c-ce40-46a7-e951-cf4b103a1731"
      },
      "source": [
        "model3.summary() "
      ],
      "execution_count": null,
      "outputs": [
        {
          "output_type": "stream",
          "text": [
            "Model: \"model_2\"\n",
            "__________________________________________________________________________________________________\n",
            "Layer (type)                    Output Shape         Param #     Connected to                     \n",
            "==================================================================================================\n",
            "input_3 (InputLayer)            [(None, 32, 32, 1)]  0                                            \n",
            "__________________________________________________________________________________________________\n",
            "conv2d_5 (Conv2D)               (None, 32, 32, 32)   320         input_3[0][0]                    \n",
            "__________________________________________________________________________________________________\n",
            "max_pooling2d_4 (MaxPooling2D)  (None, 16, 16, 32)   0           conv2d_5[0][0]                   \n",
            "__________________________________________________________________________________________________\n",
            "conv2d_6 (Conv2D)               (None, 16, 16, 128)  36992       max_pooling2d_4[0][0]            \n",
            "__________________________________________________________________________________________________\n",
            "max_pooling2d_5 (MaxPooling2D)  (None, 8, 8, 128)    0           conv2d_6[0][0]                   \n",
            "__________________________________________________________________________________________________\n",
            "conv2d_7 (Conv2D)               (None, 6, 6, 256)    295168      max_pooling2d_5[0][0]            \n",
            "__________________________________________________________________________________________________\n",
            "flatten_4 (Flatten)             (None, 9216)         0           conv2d_7[0][0]                   \n",
            "__________________________________________________________________________________________________\n",
            "flatten_3 (Flatten)             (None, 8192)         0           max_pooling2d_5[0][0]            \n",
            "__________________________________________________________________________________________________\n",
            "concatenate_1 (Concatenate)     (None, 17408)        0           flatten_4[0][0]                  \n",
            "                                                                 flatten_3[0][0]                  \n",
            "__________________________________________________________________________________________________\n",
            "dense_6 (Dense)                 (None, 256)          4456704     concatenate_1[0][0]              \n",
            "__________________________________________________________________________________________________\n",
            "dropout_4 (Dropout)             (None, 256)          0           dense_6[0][0]                    \n",
            "__________________________________________________________________________________________________\n",
            "dense_7 (Dense)                 (None, 64)           16448       dropout_4[0][0]                  \n",
            "__________________________________________________________________________________________________\n",
            "dropout_5 (Dropout)             (None, 64)           0           dense_7[0][0]                    \n",
            "__________________________________________________________________________________________________\n",
            "dense_8 (Dense)                 (None, 7)            455         dropout_5[0][0]                  \n",
            "==================================================================================================\n",
            "Total params: 4,806,087\n",
            "Trainable params: 4,806,087\n",
            "Non-trainable params: 0\n",
            "__________________________________________________________________________________________________\n"
          ],
          "name": "stdout"
        }
      ]
    },
    {
      "cell_type": "code",
      "metadata": {
        "colab": {
          "base_uri": "https://localhost:8080/"
        },
        "id": "4z0vDAFIJkDy",
        "outputId": "c6dc146b-0a20-402d-a4fe-975c08b00114"
      },
      "source": [
        "model_train(model3, 3, x_temp, y)"
      ],
      "execution_count": null,
      "outputs": [
        {
          "output_type": "stream",
          "text": [
            "Epoch 1/30\n",
            "259/259 [==============================] - 7s 22ms/step - loss: 1.8131 - accuracy: 0.2500 - val_loss: 1.6065 - val_accuracy: 0.3821\n",
            "\n",
            "Epoch 00001: val_accuracy improved from -inf to 0.38210, saving model to /content/drive/My Drive/Colab Notebooks/weights/FER_model_weights/lenet_weights3.hdf5\n",
            "Epoch 2/30\n",
            "259/259 [==============================] - 5s 20ms/step - loss: 1.6035 - accuracy: 0.3832 - val_loss: 1.5162 - val_accuracy: 0.4183\n",
            "\n",
            "Epoch 00002: val_accuracy improved from 0.38210 to 0.41832, saving model to /content/drive/My Drive/Colab Notebooks/weights/FER_model_weights/lenet_weights3.hdf5\n",
            "Epoch 3/30\n",
            "259/259 [==============================] - 5s 20ms/step - loss: 1.5094 - accuracy: 0.4188 - val_loss: 1.4356 - val_accuracy: 0.4389\n",
            "\n",
            "Epoch 00003: val_accuracy improved from 0.41832 to 0.43887, saving model to /content/drive/My Drive/Colab Notebooks/weights/FER_model_weights/lenet_weights3.hdf5\n",
            "Epoch 4/30\n",
            "259/259 [==============================] - 5s 20ms/step - loss: 1.4415 - accuracy: 0.4441 - val_loss: 1.3831 - val_accuracy: 0.4674\n",
            "\n",
            "Epoch 00004: val_accuracy improved from 0.43887 to 0.46743, saving model to /content/drive/My Drive/Colab Notebooks/weights/FER_model_weights/lenet_weights3.hdf5\n",
            "Epoch 5/30\n",
            "259/259 [==============================] - 5s 20ms/step - loss: 1.3805 - accuracy: 0.4769 - val_loss: 1.3671 - val_accuracy: 0.4786\n",
            "\n",
            "Epoch 00005: val_accuracy improved from 0.46743 to 0.47858, saving model to /content/drive/My Drive/Colab Notebooks/weights/FER_model_weights/lenet_weights3.hdf5\n",
            "Epoch 6/30\n",
            "259/259 [==============================] - 5s 20ms/step - loss: 1.3175 - accuracy: 0.5022 - val_loss: 1.3149 - val_accuracy: 0.4824\n",
            "\n",
            "Epoch 00006: val_accuracy improved from 0.47858 to 0.48241, saving model to /content/drive/My Drive/Colab Notebooks/weights/FER_model_weights/lenet_weights3.hdf5\n",
            "Epoch 7/30\n",
            "259/259 [==============================] - 5s 20ms/step - loss: 1.2494 - accuracy: 0.5299 - val_loss: 1.2673 - val_accuracy: 0.5214\n",
            "\n",
            "Epoch 00007: val_accuracy improved from 0.48241 to 0.52142, saving model to /content/drive/My Drive/Colab Notebooks/weights/FER_model_weights/lenet_weights3.hdf5\n",
            "Epoch 8/30\n",
            "259/259 [==============================] - 5s 20ms/step - loss: 1.1908 - accuracy: 0.5481 - val_loss: 1.2571 - val_accuracy: 0.5294\n",
            "\n",
            "Epoch 00008: val_accuracy improved from 0.52142 to 0.52943, saving model to /content/drive/My Drive/Colab Notebooks/weights/FER_model_weights/lenet_weights3.hdf5\n",
            "Epoch 9/30\n",
            "259/259 [==============================] - 5s 20ms/step - loss: 1.1529 - accuracy: 0.5727 - val_loss: 1.2357 - val_accuracy: 0.5294\n",
            "\n",
            "Epoch 00009: val_accuracy did not improve from 0.52943\n",
            "Epoch 10/30\n",
            "259/259 [==============================] - 5s 20ms/step - loss: 1.0928 - accuracy: 0.5933 - val_loss: 1.2208 - val_accuracy: 0.5280\n",
            "\n",
            "Epoch 00010: val_accuracy did not improve from 0.52943\n",
            "Epoch 11/30\n",
            "259/259 [==============================] - 5s 20ms/step - loss: 1.0593 - accuracy: 0.6055 - val_loss: 1.2065 - val_accuracy: 0.5340\n",
            "\n",
            "Epoch 00011: val_accuracy improved from 0.52943 to 0.53396, saving model to /content/drive/My Drive/Colab Notebooks/weights/FER_model_weights/lenet_weights3.hdf5\n",
            "Epoch 12/30\n",
            "259/259 [==============================] - 5s 20ms/step - loss: 0.9983 - accuracy: 0.6284 - val_loss: 1.2322 - val_accuracy: 0.5357\n",
            "\n",
            "Epoch 00012: val_accuracy improved from 0.53396 to 0.53570, saving model to /content/drive/My Drive/Colab Notebooks/weights/FER_model_weights/lenet_weights3.hdf5\n",
            "Epoch 13/30\n",
            "259/259 [==============================] - 5s 20ms/step - loss: 0.9588 - accuracy: 0.6454 - val_loss: 1.2094 - val_accuracy: 0.5507\n",
            "\n",
            "Epoch 00013: val_accuracy improved from 0.53570 to 0.55068, saving model to /content/drive/My Drive/Colab Notebooks/weights/FER_model_weights/lenet_weights3.hdf5\n",
            "Epoch 14/30\n",
            "259/259 [==============================] - 5s 20ms/step - loss: 0.8968 - accuracy: 0.6684 - val_loss: 1.2278 - val_accuracy: 0.5514\n",
            "\n",
            "Epoch 00014: val_accuracy improved from 0.55068 to 0.55138, saving model to /content/drive/My Drive/Colab Notebooks/weights/FER_model_weights/lenet_weights3.hdf5\n",
            "Epoch 15/30\n",
            "259/259 [==============================] - 5s 20ms/step - loss: 0.8443 - accuracy: 0.6919 - val_loss: 1.2339 - val_accuracy: 0.5521\n",
            "\n",
            "Epoch 00015: val_accuracy improved from 0.55138 to 0.55207, saving model to /content/drive/My Drive/Colab Notebooks/weights/FER_model_weights/lenet_weights3.hdf5\n",
            "Epoch 16/30\n",
            "259/259 [==============================] - 5s 20ms/step - loss: 0.7775 - accuracy: 0.7162 - val_loss: 1.2408 - val_accuracy: 0.5569\n",
            "\n",
            "Epoch 00016: val_accuracy improved from 0.55207 to 0.55695, saving model to /content/drive/My Drive/Colab Notebooks/weights/FER_model_weights/lenet_weights3.hdf5\n",
            "Epoch 17/30\n",
            "259/259 [==============================] - 5s 20ms/step - loss: 0.7182 - accuracy: 0.7422 - val_loss: 1.2666 - val_accuracy: 0.5538\n",
            "\n",
            "Epoch 00017: val_accuracy did not improve from 0.55695\n",
            "Epoch 18/30\n",
            "259/259 [==============================] - 5s 20ms/step - loss: 0.6593 - accuracy: 0.7636 - val_loss: 1.3370 - val_accuracy: 0.5517\n",
            "\n",
            "Epoch 00018: val_accuracy did not improve from 0.55695\n",
            "Epoch 19/30\n",
            "259/259 [==============================] - 5s 20ms/step - loss: 0.6012 - accuracy: 0.7875 - val_loss: 1.3520 - val_accuracy: 0.5573\n",
            "\n",
            "Epoch 00019: val_accuracy improved from 0.55695 to 0.55730, saving model to /content/drive/My Drive/Colab Notebooks/weights/FER_model_weights/lenet_weights3.hdf5\n",
            "Epoch 20/30\n",
            "259/259 [==============================] - 5s 20ms/step - loss: 0.5413 - accuracy: 0.8078 - val_loss: 1.3461 - val_accuracy: 0.5632\n",
            "\n",
            "Epoch 00020: val_accuracy improved from 0.55730 to 0.56322, saving model to /content/drive/My Drive/Colab Notebooks/weights/FER_model_weights/lenet_weights3.hdf5\n",
            "Epoch 21/30\n",
            "259/259 [==============================] - 5s 20ms/step - loss: 0.4868 - accuracy: 0.8295 - val_loss: 1.4451 - val_accuracy: 0.5486\n",
            "\n",
            "Epoch 00021: val_accuracy did not improve from 0.56322\n",
            "Epoch 22/30\n",
            "259/259 [==============================] - 5s 20ms/step - loss: 0.4538 - accuracy: 0.8433 - val_loss: 1.5281 - val_accuracy: 0.5604\n",
            "\n",
            "Epoch 00022: val_accuracy did not improve from 0.56322\n",
            "Epoch 23/30\n",
            "259/259 [==============================] - 5s 20ms/step - loss: 0.4024 - accuracy: 0.8627 - val_loss: 1.4989 - val_accuracy: 0.5601\n",
            "\n",
            "Epoch 00023: ReduceLROnPlateau reducing learning rate to 6.25000029685907e-05.\n",
            "\n",
            "Epoch 00023: val_accuracy did not improve from 0.56322\n",
            "Epoch 24/30\n",
            "259/259 [==============================] - 5s 20ms/step - loss: 0.3064 - accuracy: 0.9020 - val_loss: 1.5990 - val_accuracy: 0.5580\n",
            "\n",
            "Epoch 00024: val_accuracy did not improve from 0.56322\n",
            "Epoch 25/30\n",
            "259/259 [==============================] - 5s 20ms/step - loss: 0.2669 - accuracy: 0.9132 - val_loss: 1.6245 - val_accuracy: 0.5646\n",
            "\n",
            "Epoch 00025: val_accuracy improved from 0.56322 to 0.56461, saving model to /content/drive/My Drive/Colab Notebooks/weights/FER_model_weights/lenet_weights3.hdf5\n",
            "Epoch 26/30\n",
            "259/259 [==============================] - 5s 20ms/step - loss: 0.2513 - accuracy: 0.9222 - val_loss: 1.6455 - val_accuracy: 0.5615\n",
            "\n",
            "Epoch 00026: val_accuracy did not improve from 0.56461\n",
            "Epoch 27/30\n",
            "259/259 [==============================] - 5s 20ms/step - loss: 0.2396 - accuracy: 0.9257 - val_loss: 1.7068 - val_accuracy: 0.5629\n",
            "\n",
            "Epoch 00027: val_accuracy did not improve from 0.56461\n",
            "Epoch 28/30\n",
            "259/259 [==============================] - 5s 20ms/step - loss: 0.2285 - accuracy: 0.9283 - val_loss: 1.7145 - val_accuracy: 0.5583\n",
            "\n",
            "Epoch 00028: ReduceLROnPlateau reducing learning rate to 5e-05.\n",
            "\n",
            "Epoch 00028: val_accuracy did not improve from 0.56461\n",
            "Epoch 29/30\n",
            "259/259 [==============================] - 5s 20ms/step - loss: 0.2063 - accuracy: 0.9370 - val_loss: 1.7422 - val_accuracy: 0.5580\n",
            "\n",
            "Epoch 00029: val_accuracy did not improve from 0.56461\n",
            "Epoch 30/30\n",
            "259/259 [==============================] - 5s 20ms/step - loss: 0.1986 - accuracy: 0.9389 - val_loss: 1.7771 - val_accuracy: 0.5608\n",
            "\n",
            "Epoch 00030: val_accuracy did not improve from 0.56461\n"
          ],
          "name": "stdout"
        }
      ]
    },
    {
      "cell_type": "code",
      "metadata": {
        "id": "_eKYfwPuqRhK"
      },
      "source": [
        "model3.load_weights(weight_add(3))"
      ],
      "execution_count": null,
      "outputs": []
    },
    {
      "cell_type": "code",
      "metadata": {
        "colab": {
          "base_uri": "https://localhost:8080/"
        },
        "id": "_bWuE-78KDTD",
        "outputId": "8df5d98b-486f-4944-bff6-9faafc3d69ac"
      },
      "source": [
        "model3.evaluate(x=x_test_temp, y=to_categorical(y_test))"
      ],
      "execution_count": null,
      "outputs": [
        {
          "output_type": "stream",
          "text": [
            "113/113 [==============================] - 1s 7ms/step - loss: 1.6764 - accuracy: 0.5676\n"
          ],
          "name": "stdout"
        },
        {
          "output_type": "execute_result",
          "data": {
            "text/plain": [
              "[1.6763768196105957, 0.5675675868988037]"
            ]
          },
          "metadata": {
            "tags": []
          },
          "execution_count": 32
        }
      ]
    },
    {
      "cell_type": "code",
      "metadata": {
        "id": "zLwLAkQWKSLf"
      },
      "source": [
        "#Function to resize image using Bicubic Interpolation.\n",
        "import cv2\n",
        "def image_resize_expand(img, x1):\n",
        "  re_img = []\n",
        "  for i in img:\n",
        "    re = cv2.resize(i, (x1,x1), interpolation=cv2.INTER_CUBIC)\n",
        "    re_img.append(re)\n",
        "  return re_img"
      ],
      "execution_count": null,
      "outputs": []
    },
    {
      "cell_type": "code",
      "metadata": {
        "id": "rT0lczsOLJcl"
      },
      "source": [
        "x_temp = x\n",
        "x_test_temp = x_test"
      ],
      "execution_count": null,
      "outputs": []
    },
    {
      "cell_type": "code",
      "metadata": {
        "id": "wgg5EgOUL68W"
      },
      "source": [
        "#model4 is the modified LeNet architecture with different parametr values. \n",
        "#Input shape is nx48x48x1, 32, 128 & 256 filters in the 1st, 2nd and 3rd conv layers. 256, 64 and 7 denotes the output shape of the 1st, 2nd and 3rd dense layers respectively.\n",
        "# 7 output numbers are generated from the last dense layer as there are 7 labels in the dataset.\n",
        "# padding is valid.\n",
        "model4 = model_build_LeNet_mod(48, 32, 128, 256, 256, 64, 7, 3, 'valid')"
      ],
      "execution_count": null,
      "outputs": []
    },
    {
      "cell_type": "code",
      "metadata": {
        "colab": {
          "base_uri": "https://localhost:8080/"
        },
        "id": "xEtFrXbFMsnw",
        "outputId": "8e337ca0-bc00-4fa0-f277-19588d822b26"
      },
      "source": [
        "model4.summary()"
      ],
      "execution_count": null,
      "outputs": [
        {
          "output_type": "stream",
          "text": [
            "Model: \"model_11\"\n",
            "__________________________________________________________________________________________________\n",
            "Layer (type)                    Output Shape         Param #     Connected to                     \n",
            "==================================================================================================\n",
            "input_12 (InputLayer)           [(None, 48, 48, 1)]  0                                            \n",
            "__________________________________________________________________________________________________\n",
            "conv2d_32 (Conv2D)              (None, 46, 46, 32)   320         input_12[0][0]                   \n",
            "__________________________________________________________________________________________________\n",
            "max_pooling2d_22 (MaxPooling2D) (None, 23, 23, 32)   0           conv2d_32[0][0]                  \n",
            "__________________________________________________________________________________________________\n",
            "conv2d_33 (Conv2D)              (None, 21, 21, 128)  36992       max_pooling2d_22[0][0]           \n",
            "__________________________________________________________________________________________________\n",
            "max_pooling2d_23 (MaxPooling2D) (None, 10, 10, 128)  0           conv2d_33[0][0]                  \n",
            "__________________________________________________________________________________________________\n",
            "conv2d_34 (Conv2D)              (None, 8, 8, 256)    295168      max_pooling2d_23[0][0]           \n",
            "__________________________________________________________________________________________________\n",
            "flatten_22 (Flatten)            (None, 16384)        0           conv2d_34[0][0]                  \n",
            "__________________________________________________________________________________________________\n",
            "flatten_21 (Flatten)            (None, 12800)        0           max_pooling2d_23[0][0]           \n",
            "__________________________________________________________________________________________________\n",
            "concatenate_10 (Concatenate)    (None, 29184)        0           flatten_22[0][0]                 \n",
            "                                                                 flatten_21[0][0]                 \n",
            "__________________________________________________________________________________________________\n",
            "dense_33 (Dense)                (None, 256)          7471360     concatenate_10[0][0]             \n",
            "__________________________________________________________________________________________________\n",
            "dropout_22 (Dropout)            (None, 256)          0           dense_33[0][0]                   \n",
            "__________________________________________________________________________________________________\n",
            "dense_34 (Dense)                (None, 64)           16448       dropout_22[0][0]                 \n",
            "__________________________________________________________________________________________________\n",
            "dropout_23 (Dropout)            (None, 64)           0           dense_34[0][0]                   \n",
            "__________________________________________________________________________________________________\n",
            "dense_35 (Dense)                (None, 7)            455         dropout_23[0][0]                 \n",
            "==================================================================================================\n",
            "Total params: 7,820,743\n",
            "Trainable params: 7,820,743\n",
            "Non-trainable params: 0\n",
            "__________________________________________________________________________________________________\n"
          ],
          "name": "stdout"
        }
      ]
    },
    {
      "cell_type": "code",
      "metadata": {
        "colab": {
          "base_uri": "https://localhost:8080/"
        },
        "id": "SYm542njMz1S",
        "outputId": "95a131ff-dc8f-4bfc-c27d-8813238bf185"
      },
      "source": [
        "model_train(model4, 4, x_temp, y)"
      ],
      "execution_count": null,
      "outputs": [
        {
          "output_type": "stream",
          "text": [
            "Epoch 1/30\n",
            "259/259 [==============================] - 5s 18ms/step - loss: 1.7905 - accuracy: 0.2735 - val_loss: 1.5521 - val_accuracy: 0.4121\n",
            "\n",
            "Epoch 00001: val_accuracy improved from -inf to 0.41205, saving model to /content/drive/My Drive/Colab Notebooks/weights/FER_model_weights/lenet_weights4.hdf5\n",
            "Epoch 2/30\n",
            "259/259 [==============================] - 4s 15ms/step - loss: 1.5483 - accuracy: 0.4071 - val_loss: 1.4181 - val_accuracy: 0.4563\n",
            "\n",
            "Epoch 00002: val_accuracy improved from 0.41205 to 0.45629, saving model to /content/drive/My Drive/Colab Notebooks/weights/FER_model_weights/lenet_weights4.hdf5\n",
            "Epoch 3/30\n",
            "259/259 [==============================] - 4s 15ms/step - loss: 1.4123 - accuracy: 0.4671 - val_loss: 1.3768 - val_accuracy: 0.4716\n",
            "\n",
            "Epoch 00003: val_accuracy improved from 0.45629 to 0.47161, saving model to /content/drive/My Drive/Colab Notebooks/weights/FER_model_weights/lenet_weights4.hdf5\n",
            "Epoch 4/30\n",
            "259/259 [==============================] - 4s 16ms/step - loss: 1.3388 - accuracy: 0.4892 - val_loss: 1.2846 - val_accuracy: 0.5078\n",
            "\n",
            "Epoch 00004: val_accuracy improved from 0.47161 to 0.50784, saving model to /content/drive/My Drive/Colab Notebooks/weights/FER_model_weights/lenet_weights4.hdf5\n",
            "Epoch 5/30\n",
            "259/259 [==============================] - 4s 16ms/step - loss: 1.2542 - accuracy: 0.5247 - val_loss: 1.2552 - val_accuracy: 0.5239\n",
            "\n",
            "Epoch 00005: val_accuracy improved from 0.50784 to 0.52386, saving model to /content/drive/My Drive/Colab Notebooks/weights/FER_model_weights/lenet_weights4.hdf5\n",
            "Epoch 6/30\n",
            "259/259 [==============================] - 4s 15ms/step - loss: 1.1848 - accuracy: 0.5544 - val_loss: 1.2243 - val_accuracy: 0.5312\n",
            "\n",
            "Epoch 00006: val_accuracy improved from 0.52386 to 0.53117, saving model to /content/drive/My Drive/Colab Notebooks/weights/FER_model_weights/lenet_weights4.hdf5\n",
            "Epoch 7/30\n",
            "259/259 [==============================] - 4s 16ms/step - loss: 1.1339 - accuracy: 0.5747 - val_loss: 1.2119 - val_accuracy: 0.5392\n",
            "\n",
            "Epoch 00007: val_accuracy improved from 0.53117 to 0.53918, saving model to /content/drive/My Drive/Colab Notebooks/weights/FER_model_weights/lenet_weights4.hdf5\n",
            "Epoch 8/30\n",
            "259/259 [==============================] - 4s 16ms/step - loss: 1.0777 - accuracy: 0.5996 - val_loss: 1.1758 - val_accuracy: 0.5608\n",
            "\n",
            "Epoch 00008: val_accuracy improved from 0.53918 to 0.56078, saving model to /content/drive/My Drive/Colab Notebooks/weights/FER_model_weights/lenet_weights4.hdf5\n",
            "Epoch 9/30\n",
            "259/259 [==============================] - 4s 16ms/step - loss: 1.0117 - accuracy: 0.6280 - val_loss: 1.1605 - val_accuracy: 0.5684\n",
            "\n",
            "Epoch 00009: val_accuracy improved from 0.56078 to 0.56844, saving model to /content/drive/My Drive/Colab Notebooks/weights/FER_model_weights/lenet_weights4.hdf5\n",
            "Epoch 10/30\n",
            "259/259 [==============================] - 4s 16ms/step - loss: 0.9489 - accuracy: 0.6488 - val_loss: 1.1817 - val_accuracy: 0.5646\n",
            "\n",
            "Epoch 00010: val_accuracy did not improve from 0.56844\n",
            "Epoch 11/30\n",
            "259/259 [==============================] - 4s 16ms/step - loss: 0.8693 - accuracy: 0.6818 - val_loss: 1.1745 - val_accuracy: 0.5751\n",
            "\n",
            "Epoch 00011: val_accuracy improved from 0.56844 to 0.57506, saving model to /content/drive/My Drive/Colab Notebooks/weights/FER_model_weights/lenet_weights4.hdf5\n",
            "Epoch 12/30\n",
            "259/259 [==============================] - 4s 15ms/step - loss: 0.8042 - accuracy: 0.7080 - val_loss: 1.2166 - val_accuracy: 0.5677\n",
            "\n",
            "Epoch 00012: val_accuracy did not improve from 0.57506\n",
            "Epoch 13/30\n",
            "259/259 [==============================] - 4s 16ms/step - loss: 0.7326 - accuracy: 0.7356 - val_loss: 1.2408 - val_accuracy: 0.5765\n",
            "\n",
            "Epoch 00013: val_accuracy improved from 0.57506 to 0.57645, saving model to /content/drive/My Drive/Colab Notebooks/weights/FER_model_weights/lenet_weights4.hdf5\n",
            "Epoch 14/30\n",
            "259/259 [==============================] - 4s 16ms/step - loss: 0.6719 - accuracy: 0.7582 - val_loss: 1.2681 - val_accuracy: 0.5778\n",
            "\n",
            "Epoch 00014: val_accuracy improved from 0.57645 to 0.57785, saving model to /content/drive/My Drive/Colab Notebooks/weights/FER_model_weights/lenet_weights4.hdf5\n",
            "Epoch 15/30\n",
            "259/259 [==============================] - 4s 15ms/step - loss: 0.5995 - accuracy: 0.7873 - val_loss: 1.3211 - val_accuracy: 0.5740\n",
            "\n",
            "Epoch 00015: val_accuracy did not improve from 0.57785\n",
            "Epoch 16/30\n",
            "259/259 [==============================] - 4s 16ms/step - loss: 0.5217 - accuracy: 0.8157 - val_loss: 1.3186 - val_accuracy: 0.5799\n",
            "\n",
            "Epoch 00016: val_accuracy improved from 0.57785 to 0.57994, saving model to /content/drive/My Drive/Colab Notebooks/weights/FER_model_weights/lenet_weights4.hdf5\n",
            "Epoch 17/30\n",
            "259/259 [==============================] - 4s 15ms/step - loss: 0.4618 - accuracy: 0.8367 - val_loss: 1.4075 - val_accuracy: 0.5810\n",
            "\n",
            "Epoch 00017: val_accuracy improved from 0.57994 to 0.58098, saving model to /content/drive/My Drive/Colab Notebooks/weights/FER_model_weights/lenet_weights4.hdf5\n",
            "Epoch 18/30\n",
            "259/259 [==============================] - 4s 15ms/step - loss: 0.4025 - accuracy: 0.8579 - val_loss: 1.4726 - val_accuracy: 0.5799\n",
            "\n",
            "Epoch 00018: val_accuracy did not improve from 0.58098\n",
            "Epoch 19/30\n",
            "259/259 [==============================] - 4s 16ms/step - loss: 0.3457 - accuracy: 0.8813 - val_loss: 1.5429 - val_accuracy: 0.5803\n",
            "\n",
            "Epoch 00019: val_accuracy did not improve from 0.58098\n",
            "Epoch 20/30\n",
            "259/259 [==============================] - 4s 15ms/step - loss: 0.2897 - accuracy: 0.9026 - val_loss: 1.6519 - val_accuracy: 0.5688\n",
            "\n",
            "Epoch 00020: ReduceLROnPlateau reducing learning rate to 6.25000029685907e-05.\n",
            "\n",
            "Epoch 00020: val_accuracy did not improve from 0.58098\n",
            "Epoch 21/30\n",
            "259/259 [==============================] - 4s 15ms/step - loss: 0.2231 - accuracy: 0.9267 - val_loss: 1.6867 - val_accuracy: 0.5855\n",
            "\n",
            "Epoch 00021: val_accuracy improved from 0.58098 to 0.58551, saving model to /content/drive/My Drive/Colab Notebooks/weights/FER_model_weights/lenet_weights4.hdf5\n",
            "Epoch 22/30\n",
            "259/259 [==============================] - 4s 15ms/step - loss: 0.1869 - accuracy: 0.9422 - val_loss: 1.7614 - val_accuracy: 0.5838\n",
            "\n",
            "Epoch 00022: val_accuracy did not improve from 0.58551\n",
            "Epoch 23/30\n",
            "259/259 [==============================] - 4s 16ms/step - loss: 0.1691 - accuracy: 0.9452 - val_loss: 1.7784 - val_accuracy: 0.5810\n",
            "\n",
            "Epoch 00023: val_accuracy did not improve from 0.58551\n",
            "Epoch 24/30\n",
            "259/259 [==============================] - 4s 16ms/step - loss: 0.1552 - accuracy: 0.9536 - val_loss: 1.8382 - val_accuracy: 0.5761\n",
            "\n",
            "Epoch 00024: ReduceLROnPlateau reducing learning rate to 5e-05.\n",
            "\n",
            "Epoch 00024: val_accuracy did not improve from 0.58551\n",
            "Epoch 25/30\n",
            "259/259 [==============================] - 4s 16ms/step - loss: 0.1505 - accuracy: 0.9553 - val_loss: 1.8683 - val_accuracy: 0.5716\n",
            "\n",
            "Epoch 00025: val_accuracy did not improve from 0.58551\n",
            "Epoch 26/30\n",
            "259/259 [==============================] - 4s 16ms/step - loss: 0.1368 - accuracy: 0.9574 - val_loss: 1.9117 - val_accuracy: 0.5758\n",
            "\n",
            "Epoch 00026: val_accuracy did not improve from 0.58551\n",
            "Epoch 27/30\n",
            "259/259 [==============================] - 4s 16ms/step - loss: 0.1324 - accuracy: 0.9597 - val_loss: 1.9427 - val_accuracy: 0.5768\n",
            "\n",
            "Epoch 00027: val_accuracy did not improve from 0.58551\n",
            "Epoch 28/30\n",
            "259/259 [==============================] - 4s 16ms/step - loss: 0.1179 - accuracy: 0.9636 - val_loss: 1.9929 - val_accuracy: 0.5740\n",
            "\n",
            "Epoch 00028: val_accuracy did not improve from 0.58551\n",
            "Epoch 29/30\n",
            "259/259 [==============================] - 4s 16ms/step - loss: 0.1150 - accuracy: 0.9647 - val_loss: 2.0311 - val_accuracy: 0.5751\n",
            "\n",
            "Epoch 00029: val_accuracy did not improve from 0.58551\n",
            "Epoch 30/30\n",
            "259/259 [==============================] - 4s 16ms/step - loss: 0.1107 - accuracy: 0.9672 - val_loss: 2.0533 - val_accuracy: 0.5737\n",
            "\n",
            "Epoch 00030: val_accuracy did not improve from 0.58551\n"
          ],
          "name": "stdout"
        }
      ]
    },
    {
      "cell_type": "code",
      "metadata": {
        "id": "TxinbIEDRP8a"
      },
      "source": [
        "model4.load_weights(weight_add(4))"
      ],
      "execution_count": null,
      "outputs": []
    },
    {
      "cell_type": "code",
      "metadata": {
        "colab": {
          "base_uri": "https://localhost:8080/"
        },
        "id": "181gU7LVRVOK",
        "outputId": "efa28444-5c2a-47bf-f8c3-bff2c9dfae2c"
      },
      "source": [
        "model4.evaluate(x=x_test_temp, y=to_categorical(y_test))"
      ],
      "execution_count": null,
      "outputs": [
        {
          "output_type": "stream",
          "text": [
            "113/113 [==============================] - 0s 4ms/step - loss: 1.6965 - accuracy: 0.5890\n"
          ],
          "name": "stdout"
        },
        {
          "output_type": "execute_result",
          "data": {
            "text/plain": [
              "[1.696519374847412, 0.5890220403671265]"
            ]
          },
          "metadata": {
            "tags": []
          },
          "execution_count": 98
        }
      ]
    },
    {
      "cell_type": "code",
      "metadata": {
        "id": "DH5o4ioNM4uD"
      },
      "source": [
        "x_temp = np.array(image_resize_expand(x, 64))\n",
        "x_test_temp = np.array(image_resize_expand(x_test, 64))"
      ],
      "execution_count": null,
      "outputs": []
    },
    {
      "cell_type": "code",
      "metadata": {
        "id": "sDKAtub64ezG"
      },
      "source": [
        "# as accuracy of the model increased because of using image size of (48x48) than image size of (32x32), we are now using image size of (64x64) to see if it increases the accuracy of the model.\n",
        "model5 = model_build_LeNet_mod(64, 64, 128, 256, 256, 64, 7, 3, 'valid')"
      ],
      "execution_count": null,
      "outputs": []
    },
    {
      "cell_type": "code",
      "metadata": {
        "colab": {
          "base_uri": "https://localhost:8080/"
        },
        "id": "dEXlEucJ4sSb",
        "outputId": "cbbce0d5-0896-4276-9cff-f9d30be8e89a"
      },
      "source": [
        "model5.summary()"
      ],
      "execution_count": null,
      "outputs": [
        {
          "output_type": "stream",
          "text": [
            "Model: \"model_7\"\n",
            "__________________________________________________________________________________________________\n",
            "Layer (type)                    Output Shape         Param #     Connected to                     \n",
            "==================================================================================================\n",
            "input_8 (InputLayer)            [(None, 64, 64, 1)]  0                                            \n",
            "__________________________________________________________________________________________________\n",
            "conv2d_20 (Conv2D)              (None, 62, 62, 64)   640         input_8[0][0]                    \n",
            "__________________________________________________________________________________________________\n",
            "max_pooling2d_14 (MaxPooling2D) (None, 31, 31, 64)   0           conv2d_20[0][0]                  \n",
            "__________________________________________________________________________________________________\n",
            "conv2d_21 (Conv2D)              (None, 29, 29, 128)  73856       max_pooling2d_14[0][0]           \n",
            "__________________________________________________________________________________________________\n",
            "max_pooling2d_15 (MaxPooling2D) (None, 14, 14, 128)  0           conv2d_21[0][0]                  \n",
            "__________________________________________________________________________________________________\n",
            "conv2d_22 (Conv2D)              (None, 12, 12, 256)  295168      max_pooling2d_15[0][0]           \n",
            "__________________________________________________________________________________________________\n",
            "flatten_14 (Flatten)            (None, 36864)        0           conv2d_22[0][0]                  \n",
            "__________________________________________________________________________________________________\n",
            "flatten_13 (Flatten)            (None, 25088)        0           max_pooling2d_15[0][0]           \n",
            "__________________________________________________________________________________________________\n",
            "concatenate_6 (Concatenate)     (None, 61952)        0           flatten_14[0][0]                 \n",
            "                                                                 flatten_13[0][0]                 \n",
            "__________________________________________________________________________________________________\n",
            "dense_21 (Dense)                (None, 256)          15859968    concatenate_6[0][0]              \n",
            "__________________________________________________________________________________________________\n",
            "dropout_14 (Dropout)            (None, 256)          0           dense_21[0][0]                   \n",
            "__________________________________________________________________________________________________\n",
            "dense_22 (Dense)                (None, 64)           16448       dropout_14[0][0]                 \n",
            "__________________________________________________________________________________________________\n",
            "dropout_15 (Dropout)            (None, 64)           0           dense_22[0][0]                   \n",
            "__________________________________________________________________________________________________\n",
            "dense_23 (Dense)                (None, 7)            455         dropout_15[0][0]                 \n",
            "==================================================================================================\n",
            "Total params: 16,246,535\n",
            "Trainable params: 16,246,535\n",
            "Non-trainable params: 0\n",
            "__________________________________________________________________________________________________\n"
          ],
          "name": "stdout"
        }
      ]
    },
    {
      "cell_type": "code",
      "metadata": {
        "colab": {
          "base_uri": "https://localhost:8080/"
        },
        "id": "VxUlFxg64u4H",
        "outputId": "a0127378-cffd-49f6-8119-722836eef581"
      },
      "source": [
        "model_train(model5, 5, x_temp, y)"
      ],
      "execution_count": null,
      "outputs": [
        {
          "output_type": "stream",
          "text": [
            "Epoch 1/30\n",
            "259/259 [==============================] - 10s 35ms/step - loss: 1.7872 - accuracy: 0.2743 - val_loss: 1.5099 - val_accuracy: 0.4169\n",
            "\n",
            "Epoch 00001: val_accuracy improved from -inf to 0.41693, saving model to /content/drive/My Drive/Colab Notebooks/weights/FER_model_weights/lenet_weights5.hdf5\n",
            "Epoch 2/30\n",
            "259/259 [==============================] - 8s 32ms/step - loss: 1.4804 - accuracy: 0.4350 - val_loss: 1.3604 - val_accuracy: 0.4835\n",
            "\n",
            "Epoch 00002: val_accuracy improved from 0.41693 to 0.48346, saving model to /content/drive/My Drive/Colab Notebooks/weights/FER_model_weights/lenet_weights5.hdf5\n",
            "Epoch 3/30\n",
            "259/259 [==============================] - 8s 33ms/step - loss: 1.3414 - accuracy: 0.4964 - val_loss: 1.2638 - val_accuracy: 0.5176\n",
            "\n",
            "Epoch 00003: val_accuracy improved from 0.48346 to 0.51759, saving model to /content/drive/My Drive/Colab Notebooks/weights/FER_model_weights/lenet_weights5.hdf5\n",
            "Epoch 4/30\n",
            "259/259 [==============================] - 9s 33ms/step - loss: 1.2419 - accuracy: 0.5327 - val_loss: 1.2189 - val_accuracy: 0.5326\n",
            "\n",
            "Epoch 00004: val_accuracy improved from 0.51759 to 0.53257, saving model to /content/drive/My Drive/Colab Notebooks/weights/FER_model_weights/lenet_weights5.hdf5\n",
            "Epoch 5/30\n",
            "259/259 [==============================] - 9s 33ms/step - loss: 1.1201 - accuracy: 0.5842 - val_loss: 1.1887 - val_accuracy: 0.5448\n",
            "\n",
            "Epoch 00005: val_accuracy improved from 0.53257 to 0.54476, saving model to /content/drive/My Drive/Colab Notebooks/weights/FER_model_weights/lenet_weights5.hdf5\n",
            "Epoch 6/30\n",
            "259/259 [==============================] - 9s 33ms/step - loss: 1.0417 - accuracy: 0.6163 - val_loss: 1.1597 - val_accuracy: 0.5601\n",
            "\n",
            "Epoch 00006: val_accuracy improved from 0.54476 to 0.56008, saving model to /content/drive/My Drive/Colab Notebooks/weights/FER_model_weights/lenet_weights5.hdf5\n",
            "Epoch 7/30\n",
            "259/259 [==============================] - 9s 33ms/step - loss: 0.9261 - accuracy: 0.6579 - val_loss: 1.1634 - val_accuracy: 0.5615\n",
            "\n",
            "Epoch 00007: val_accuracy improved from 0.56008 to 0.56148, saving model to /content/drive/My Drive/Colab Notebooks/weights/FER_model_weights/lenet_weights5.hdf5\n",
            "Epoch 8/30\n",
            "259/259 [==============================] - 9s 33ms/step - loss: 0.8256 - accuracy: 0.6980 - val_loss: 1.2321 - val_accuracy: 0.5664\n",
            "\n",
            "Epoch 00008: val_accuracy improved from 0.56148 to 0.56635, saving model to /content/drive/My Drive/Colab Notebooks/weights/FER_model_weights/lenet_weights5.hdf5\n",
            "Epoch 9/30\n",
            "259/259 [==============================] - 8s 33ms/step - loss: 0.7158 - accuracy: 0.7440 - val_loss: 1.2182 - val_accuracy: 0.5817\n",
            "\n",
            "Epoch 00009: val_accuracy improved from 0.56635 to 0.58168, saving model to /content/drive/My Drive/Colab Notebooks/weights/FER_model_weights/lenet_weights5.hdf5\n",
            "Epoch 10/30\n",
            "259/259 [==============================] - 9s 33ms/step - loss: 0.5991 - accuracy: 0.7863 - val_loss: 1.2649 - val_accuracy: 0.5744\n",
            "\n",
            "Epoch 00010: val_accuracy did not improve from 0.58168\n",
            "Epoch 11/30\n",
            "259/259 [==============================] - 8s 33ms/step - loss: 0.5023 - accuracy: 0.8250 - val_loss: 1.3749 - val_accuracy: 0.5643\n",
            "\n",
            "Epoch 00011: val_accuracy did not improve from 0.58168\n",
            "Epoch 12/30\n",
            "259/259 [==============================] - 8s 33ms/step - loss: 0.4082 - accuracy: 0.8590 - val_loss: 1.4422 - val_accuracy: 0.5733\n",
            "\n",
            "Epoch 00012: ReduceLROnPlateau reducing learning rate to 6.25000029685907e-05.\n",
            "\n",
            "Epoch 00012: val_accuracy did not improve from 0.58168\n",
            "Epoch 13/30\n",
            "259/259 [==============================] - 9s 33ms/step - loss: 0.2940 - accuracy: 0.9028 - val_loss: 1.5557 - val_accuracy: 0.5900\n",
            "\n",
            "Epoch 00013: val_accuracy improved from 0.58168 to 0.59004, saving model to /content/drive/My Drive/Colab Notebooks/weights/FER_model_weights/lenet_weights5.hdf5\n",
            "Epoch 14/30\n",
            "259/259 [==============================] - 9s 33ms/step - loss: 0.2371 - accuracy: 0.9241 - val_loss: 1.5926 - val_accuracy: 0.5893\n",
            "\n",
            "Epoch 00014: val_accuracy did not improve from 0.59004\n",
            "Epoch 15/30\n",
            "259/259 [==============================] - 9s 33ms/step - loss: 0.2093 - accuracy: 0.9324 - val_loss: 1.6476 - val_accuracy: 0.5806\n",
            "\n",
            "Epoch 00015: val_accuracy did not improve from 0.59004\n",
            "Epoch 16/30\n",
            "259/259 [==============================] - 9s 33ms/step - loss: 0.1911 - accuracy: 0.9375 - val_loss: 1.7104 - val_accuracy: 0.5841\n",
            "\n",
            "Epoch 00016: ReduceLROnPlateau reducing learning rate to 5e-05.\n",
            "\n",
            "Epoch 00016: val_accuracy did not improve from 0.59004\n",
            "Epoch 17/30\n",
            "259/259 [==============================] - 9s 33ms/step - loss: 0.1699 - accuracy: 0.9477 - val_loss: 1.7547 - val_accuracy: 0.5827\n",
            "\n",
            "Epoch 00017: val_accuracy did not improve from 0.59004\n",
            "Epoch 18/30\n",
            "259/259 [==============================] - 9s 33ms/step - loss: 0.1543 - accuracy: 0.9505 - val_loss: 1.7908 - val_accuracy: 0.5883\n",
            "\n",
            "Epoch 00018: val_accuracy did not improve from 0.59004\n",
            "Epoch 19/30\n",
            "259/259 [==============================] - 9s 33ms/step - loss: 0.1436 - accuracy: 0.9539 - val_loss: 1.8755 - val_accuracy: 0.5873\n",
            "\n",
            "Epoch 00019: val_accuracy did not improve from 0.59004\n",
            "Epoch 20/30\n",
            "259/259 [==============================] - 9s 33ms/step - loss: 0.1327 - accuracy: 0.9593 - val_loss: 1.8956 - val_accuracy: 0.5852\n",
            "\n",
            "Epoch 00020: val_accuracy did not improve from 0.59004\n",
            "Epoch 21/30\n",
            "259/259 [==============================] - 8s 33ms/step - loss: 0.1227 - accuracy: 0.9628 - val_loss: 1.9255 - val_accuracy: 0.5796\n",
            "\n",
            "Epoch 00021: val_accuracy did not improve from 0.59004\n",
            "Epoch 22/30\n",
            "259/259 [==============================] - 9s 33ms/step - loss: 0.1127 - accuracy: 0.9658 - val_loss: 2.0011 - val_accuracy: 0.5886\n",
            "\n",
            "Epoch 00022: val_accuracy did not improve from 0.59004\n",
            "Epoch 23/30\n",
            "259/259 [==============================] - 8s 33ms/step - loss: 0.1051 - accuracy: 0.9668 - val_loss: 2.0724 - val_accuracy: 0.5876\n",
            "\n",
            "Epoch 00023: val_accuracy did not improve from 0.59004\n",
            "Epoch 24/30\n",
            "259/259 [==============================] - 9s 33ms/step - loss: 0.1002 - accuracy: 0.9705 - val_loss: 2.1024 - val_accuracy: 0.5824\n",
            "\n",
            "Epoch 00024: val_accuracy did not improve from 0.59004\n",
            "Epoch 25/30\n",
            "259/259 [==============================] - 9s 33ms/step - loss: 0.1019 - accuracy: 0.9687 - val_loss: 2.1069 - val_accuracy: 0.5834\n",
            "\n",
            "Epoch 00025: val_accuracy did not improve from 0.59004\n",
            "Epoch 26/30\n",
            "259/259 [==============================] - 8s 33ms/step - loss: 0.0928 - accuracy: 0.9712 - val_loss: 2.1467 - val_accuracy: 0.5831\n",
            "\n",
            "Epoch 00026: val_accuracy did not improve from 0.59004\n",
            "Epoch 27/30\n",
            "259/259 [==============================] - 8s 33ms/step - loss: 0.0857 - accuracy: 0.9723 - val_loss: 2.2310 - val_accuracy: 0.5817\n",
            "\n",
            "Epoch 00027: val_accuracy did not improve from 0.59004\n",
            "Epoch 28/30\n",
            "259/259 [==============================] - 8s 33ms/step - loss: 0.0742 - accuracy: 0.9778 - val_loss: 2.2376 - val_accuracy: 0.5772\n",
            "\n",
            "Epoch 00028: val_accuracy did not improve from 0.59004\n",
            "Epoch 29/30\n",
            "259/259 [==============================] - 8s 33ms/step - loss: 0.0720 - accuracy: 0.9787 - val_loss: 2.1865 - val_accuracy: 0.5747\n",
            "\n",
            "Epoch 00029: val_accuracy did not improve from 0.59004\n",
            "Epoch 30/30\n",
            "259/259 [==============================] - 8s 33ms/step - loss: 0.0722 - accuracy: 0.9782 - val_loss: 2.3233 - val_accuracy: 0.5789\n",
            "\n",
            "Epoch 00030: val_accuracy did not improve from 0.59004\n"
          ],
          "name": "stdout"
        }
      ]
    },
    {
      "cell_type": "code",
      "metadata": {
        "id": "hpAC6n1aYxNz"
      },
      "source": [
        "model5.load_weights(weight_add(5))"
      ],
      "execution_count": null,
      "outputs": []
    },
    {
      "cell_type": "code",
      "metadata": {
        "colab": {
          "base_uri": "https://localhost:8080/"
        },
        "id": "j52cxjkmZPRh",
        "outputId": "f44d2715-70fd-44b1-aac4-01f55b471c46"
      },
      "source": [
        "model5.evaluate(x=x_test_temp, y=to_categorical(y_test))"
      ],
      "execution_count": null,
      "outputs": [
        {
          "output_type": "stream",
          "text": [
            "113/113 [==============================] - 1s 6ms/step - loss: 1.6718 - accuracy: 0.5731\n"
          ],
          "name": "stdout"
        },
        {
          "output_type": "execute_result",
          "data": {
            "text/plain": [
              "[1.6718212366104126, 0.5731401443481445]"
            ]
          },
          "metadata": {
            "tags": []
          },
          "execution_count": 75
        }
      ]
    },
    {
      "cell_type": "code",
      "metadata": {
        "id": "KpE-qkJ9CSiM"
      },
      "source": [
        "x_temp = x\n",
        "x_test_temp = x_test"
      ],
      "execution_count": null,
      "outputs": []
    },
    {
      "cell_type": "code",
      "metadata": {
        "id": "S8xIv6ZO527w"
      },
      "source": [
        "# We will now use ResNet-50 model to see if it increases the accuracy. ResNet-50 architecture acceptes image with 3 channels. \n",
        "#So changing the the channel number from 1 to 3 for the images of the dataset.\n",
        "def im_resize(x, sz):\n",
        "  batch_size = x.shape[0]\n",
        "  X = np.empty((batch_size,) + (sz, sz, 3))\n",
        "  for batch_idx in range(batch_size):\n",
        "    for i in range(3):\n",
        "      X[batch_idx,:,:,i] = x[batch_idx]\n",
        "  return X\n"
      ],
      "execution_count": null,
      "outputs": []
    },
    {
      "cell_type": "code",
      "metadata": {
        "id": "1BudRrJWDRmS"
      },
      "source": [
        "x_temp = np.array(im_resize(x_temp, 48)) #x_temp is now of shape (48x48x3)\n",
        "x_test_temp = np.array(im_resize(x_test_temp, 48))"
      ],
      "execution_count": null,
      "outputs": []
    },
    {
      "cell_type": "code",
      "metadata": {
        "id": "CWUMrX7sbtkG"
      },
      "source": [
        "import tensorflow.keras.applications as app"
      ],
      "execution_count": null,
      "outputs": []
    },
    {
      "cell_type": "code",
      "metadata": {
        "id": "-I8KSWY5uNll"
      },
      "source": [
        "# We are taking a pretrained ResNet-50 model on imagenet dataset. We are excluding the last dense layers and will train these dense layers only.\n",
        "# The rest of the model won't be trained.\n",
        "def resnet_model1(sz):\n",
        "  resnet = app.ResNet50(include_top=False, weights='imagenet', input_shape=(sz,sz,3))\n",
        "  output = resnet.layers[-1].output\n",
        "  output = keras.layers.Flatten()(output)\n",
        "  resnet = models.Model(inputs = resnet.input, outputs = output)\n",
        "  for layer in resnet.layers:\n",
        "      layer.trainable = False\n",
        "  return resnet"
      ],
      "execution_count": null,
      "outputs": []
    },
    {
      "cell_type": "code",
      "metadata": {
        "id": "JhWWeHo1xS0D"
      },
      "source": [
        "#adding three dense layers with the ouput of resnet_model1 \n",
        "def resnet_model2(sz):\n",
        "  resnet = resnet_model1(sz)\n",
        "  model = models.Sequential()\n",
        "  model.add(resnet)\n",
        "  #model3.add(layers.Flatten())\n",
        "  model.add(layers.Dense(256, activation='relu'))\n",
        "  model.add(layers.Dropout(0.3))\n",
        "  model.add(layers.Dense(128, activation='relu'))\n",
        "  model.add(layers.Dropout(0.3))\n",
        "  model.add(layers.Dense(7, activation='softmax'))\n",
        "  return model"
      ],
      "execution_count": null,
      "outputs": []
    },
    {
      "cell_type": "code",
      "metadata": {
        "id": "y4-cFR7HE9e5"
      },
      "source": [
        "model6 = resnet_model2(48)"
      ],
      "execution_count": null,
      "outputs": []
    },
    {
      "cell_type": "code",
      "metadata": {
        "colab": {
          "base_uri": "https://localhost:8080/"
        },
        "id": "RGWi3LnWFRo4",
        "outputId": "84c09cc7-a752-4dfb-87a6-fa92a8ce90bf"
      },
      "source": [
        "#Total number of parameters is huge but we are only training a short number from the total parameters.\n",
        "model6.summary()"
      ],
      "execution_count": null,
      "outputs": [
        {
          "output_type": "stream",
          "text": [
            "Model: \"sequential\"\n",
            "_________________________________________________________________\n",
            "Layer (type)                 Output Shape              Param #   \n",
            "=================================================================\n",
            "model_4 (Functional)         (None, 8192)              23587712  \n",
            "_________________________________________________________________\n",
            "dense_9 (Dense)              (None, 256)               2097408   \n",
            "_________________________________________________________________\n",
            "dropout_6 (Dropout)          (None, 256)               0         \n",
            "_________________________________________________________________\n",
            "dense_10 (Dense)             (None, 128)               32896     \n",
            "_________________________________________________________________\n",
            "dropout_7 (Dropout)          (None, 128)               0         \n",
            "_________________________________________________________________\n",
            "dense_11 (Dense)             (None, 7)                 903       \n",
            "=================================================================\n",
            "Total params: 25,718,919\n",
            "Trainable params: 2,131,207\n",
            "Non-trainable params: 23,587,712\n",
            "_________________________________________________________________\n"
          ],
          "name": "stdout"
        }
      ]
    },
    {
      "cell_type": "code",
      "metadata": {
        "id": "EE9dlbrzzFp7",
        "colab": {
          "base_uri": "https://localhost:8080/"
        },
        "outputId": "9d7e175d-3ec6-4238-c6a2-ffbad5270c5e"
      },
      "source": [
        "# accuracy of the validation set is increasing frequently with the passing of epochs. Validation accuracy might increase if the\n",
        "#model is trained for more epochs.\n",
        "model_train(model6, 6, x_temp, y)"
      ],
      "execution_count": null,
      "outputs": [
        {
          "output_type": "stream",
          "text": [
            "Epoch 1/30\n",
            "259/259 [==============================] - 46s 39ms/step - loss: 1.9347 - accuracy: 0.2103 - val_loss: 1.7845 - val_accuracy: 0.2602\n",
            "\n",
            "Epoch 00001: val_accuracy improved from -inf to 0.26019, saving model to /content/drive/My Drive/Colab Notebooks/weights/FER_model_weights/lenet_weights6.hdf5\n",
            "Epoch 2/30\n",
            "259/259 [==============================] - 8s 31ms/step - loss: 1.8161 - accuracy: 0.2390 - val_loss: 1.7715 - val_accuracy: 0.2630\n",
            "\n",
            "Epoch 00002: val_accuracy improved from 0.26019 to 0.26297, saving model to /content/drive/My Drive/Colab Notebooks/weights/FER_model_weights/lenet_weights6.hdf5\n",
            "Epoch 3/30\n",
            "259/259 [==============================] - 8s 33ms/step - loss: 1.7908 - accuracy: 0.2514 - val_loss: 1.7653 - val_accuracy: 0.2783\n",
            "\n",
            "Epoch 00003: val_accuracy improved from 0.26297 to 0.27830, saving model to /content/drive/My Drive/Colab Notebooks/weights/FER_model_weights/lenet_weights6.hdf5\n",
            "Epoch 4/30\n",
            "259/259 [==============================] - 8s 32ms/step - loss: 1.7722 - accuracy: 0.2659 - val_loss: 1.7351 - val_accuracy: 0.2898\n",
            "\n",
            "Epoch 00004: val_accuracy improved from 0.27830 to 0.28979, saving model to /content/drive/My Drive/Colab Notebooks/weights/FER_model_weights/lenet_weights6.hdf5\n",
            "Epoch 5/30\n",
            "259/259 [==============================] - 8s 33ms/step - loss: 1.7529 - accuracy: 0.2777 - val_loss: 1.7252 - val_accuracy: 0.2908\n",
            "\n",
            "Epoch 00005: val_accuracy improved from 0.28979 to 0.29084, saving model to /content/drive/My Drive/Colab Notebooks/weights/FER_model_weights/lenet_weights6.hdf5\n",
            "Epoch 6/30\n",
            "259/259 [==============================] - 8s 32ms/step - loss: 1.7484 - accuracy: 0.2763 - val_loss: 1.7403 - val_accuracy: 0.2853\n",
            "\n",
            "Epoch 00006: val_accuracy did not improve from 0.29084\n",
            "Epoch 7/30\n",
            "259/259 [==============================] - 9s 33ms/step - loss: 1.7457 - accuracy: 0.2808 - val_loss: 1.7125 - val_accuracy: 0.2989\n",
            "\n",
            "Epoch 00007: val_accuracy improved from 0.29084 to 0.29885, saving model to /content/drive/My Drive/Colab Notebooks/weights/FER_model_weights/lenet_weights6.hdf5\n",
            "Epoch 8/30\n",
            "259/259 [==============================] - 8s 33ms/step - loss: 1.7344 - accuracy: 0.2877 - val_loss: 1.7226 - val_accuracy: 0.3037\n",
            "\n",
            "Epoch 00008: val_accuracy improved from 0.29885 to 0.30373, saving model to /content/drive/My Drive/Colab Notebooks/weights/FER_model_weights/lenet_weights6.hdf5\n",
            "Epoch 9/30\n",
            "259/259 [==============================] - 8s 32ms/step - loss: 1.7275 - accuracy: 0.2894 - val_loss: 1.7099 - val_accuracy: 0.3079\n",
            "\n",
            "Epoch 00009: val_accuracy improved from 0.30373 to 0.30791, saving model to /content/drive/My Drive/Colab Notebooks/weights/FER_model_weights/lenet_weights6.hdf5\n",
            "Epoch 10/30\n",
            "259/259 [==============================] - 8s 33ms/step - loss: 1.7237 - accuracy: 0.2963 - val_loss: 1.6984 - val_accuracy: 0.3090\n",
            "\n",
            "Epoch 00010: val_accuracy improved from 0.30791 to 0.30895, saving model to /content/drive/My Drive/Colab Notebooks/weights/FER_model_weights/lenet_weights6.hdf5\n",
            "Epoch 11/30\n",
            "259/259 [==============================] - 8s 32ms/step - loss: 1.7091 - accuracy: 0.3029 - val_loss: 1.6852 - val_accuracy: 0.3173\n",
            "\n",
            "Epoch 00011: val_accuracy improved from 0.30895 to 0.31731, saving model to /content/drive/My Drive/Colab Notebooks/weights/FER_model_weights/lenet_weights6.hdf5\n",
            "Epoch 12/30\n",
            "259/259 [==============================] - 9s 33ms/step - loss: 1.7155 - accuracy: 0.2965 - val_loss: 1.7143 - val_accuracy: 0.3131\n",
            "\n",
            "Epoch 00012: val_accuracy did not improve from 0.31731\n",
            "Epoch 13/30\n",
            "259/259 [==============================] - 8s 32ms/step - loss: 1.7124 - accuracy: 0.3031 - val_loss: 1.6750 - val_accuracy: 0.3138\n",
            "\n",
            "Epoch 00013: val_accuracy did not improve from 0.31731\n",
            "Epoch 14/30\n",
            "259/259 [==============================] - 8s 32ms/step - loss: 1.6919 - accuracy: 0.3112 - val_loss: 1.6928 - val_accuracy: 0.3187\n",
            "\n",
            "Epoch 00014: val_accuracy improved from 0.31731 to 0.31870, saving model to /content/drive/My Drive/Colab Notebooks/weights/FER_model_weights/lenet_weights6.hdf5\n",
            "Epoch 15/30\n",
            "259/259 [==============================] - 8s 32ms/step - loss: 1.7012 - accuracy: 0.3030 - val_loss: 1.6742 - val_accuracy: 0.3434\n",
            "\n",
            "Epoch 00015: val_accuracy improved from 0.31870 to 0.34343, saving model to /content/drive/My Drive/Colab Notebooks/weights/FER_model_weights/lenet_weights6.hdf5\n",
            "Epoch 16/30\n",
            "259/259 [==============================] - 9s 33ms/step - loss: 1.6951 - accuracy: 0.3082 - val_loss: 1.6595 - val_accuracy: 0.3292\n",
            "\n",
            "Epoch 00016: val_accuracy did not improve from 0.34343\n",
            "Epoch 17/30\n",
            "259/259 [==============================] - 8s 32ms/step - loss: 1.6802 - accuracy: 0.3205 - val_loss: 1.6713 - val_accuracy: 0.3305\n",
            "\n",
            "Epoch 00017: val_accuracy did not improve from 0.34343\n",
            "Epoch 18/30\n",
            "259/259 [==============================] - 8s 32ms/step - loss: 1.6825 - accuracy: 0.3149 - val_loss: 1.6612 - val_accuracy: 0.3347\n",
            "\n",
            "Epoch 00018: ReduceLROnPlateau reducing learning rate to 6.25000029685907e-05.\n",
            "\n",
            "Epoch 00018: val_accuracy did not improve from 0.34343\n",
            "Epoch 19/30\n",
            "259/259 [==============================] - 8s 32ms/step - loss: 1.6719 - accuracy: 0.3287 - val_loss: 1.6471 - val_accuracy: 0.3466\n",
            "\n",
            "Epoch 00019: val_accuracy improved from 0.34343 to 0.34657, saving model to /content/drive/My Drive/Colab Notebooks/weights/FER_model_weights/lenet_weights6.hdf5\n",
            "Epoch 20/30\n",
            "259/259 [==============================] - 8s 32ms/step - loss: 1.6644 - accuracy: 0.3302 - val_loss: 1.6471 - val_accuracy: 0.3473\n",
            "\n",
            "Epoch 00020: val_accuracy improved from 0.34657 to 0.34727, saving model to /content/drive/My Drive/Colab Notebooks/weights/FER_model_weights/lenet_weights6.hdf5\n",
            "Epoch 21/30\n",
            "259/259 [==============================] - 8s 32ms/step - loss: 1.6605 - accuracy: 0.3309 - val_loss: 1.6437 - val_accuracy: 0.3521\n",
            "\n",
            "Epoch 00021: val_accuracy improved from 0.34727 to 0.35214, saving model to /content/drive/My Drive/Colab Notebooks/weights/FER_model_weights/lenet_weights6.hdf5\n",
            "Epoch 22/30\n",
            "259/259 [==============================] - 9s 33ms/step - loss: 1.6632 - accuracy: 0.3324 - val_loss: 1.6413 - val_accuracy: 0.3445\n",
            "\n",
            "Epoch 00022: val_accuracy did not improve from 0.35214\n",
            "Epoch 23/30\n",
            "259/259 [==============================] - 8s 32ms/step - loss: 1.6640 - accuracy: 0.3335 - val_loss: 1.6441 - val_accuracy: 0.3445\n",
            "\n",
            "Epoch 00023: val_accuracy did not improve from 0.35214\n",
            "Epoch 24/30\n",
            "259/259 [==============================] - 8s 32ms/step - loss: 1.6661 - accuracy: 0.3315 - val_loss: 1.6367 - val_accuracy: 0.3459\n",
            "\n",
            "Epoch 00024: ReduceLROnPlateau reducing learning rate to 5e-05.\n",
            "\n",
            "Epoch 00024: val_accuracy did not improve from 0.35214\n",
            "Epoch 25/30\n",
            "259/259 [==============================] - 8s 33ms/step - loss: 1.6646 - accuracy: 0.3294 - val_loss: 1.6372 - val_accuracy: 0.3424\n",
            "\n",
            "Epoch 00025: val_accuracy did not improve from 0.35214\n",
            "Epoch 26/30\n",
            "259/259 [==============================] - 8s 32ms/step - loss: 1.6585 - accuracy: 0.3285 - val_loss: 1.6336 - val_accuracy: 0.3441\n",
            "\n",
            "Epoch 00026: val_accuracy did not improve from 0.35214\n",
            "Epoch 27/30\n",
            "259/259 [==============================] - 8s 32ms/step - loss: 1.6537 - accuracy: 0.3342 - val_loss: 1.6351 - val_accuracy: 0.3504\n",
            "\n",
            "Epoch 00027: val_accuracy did not improve from 0.35214\n",
            "Epoch 28/30\n",
            "259/259 [==============================] - 8s 32ms/step - loss: 1.6554 - accuracy: 0.3381 - val_loss: 1.6364 - val_accuracy: 0.3487\n",
            "\n",
            "Epoch 00028: val_accuracy did not improve from 0.35214\n",
            "Epoch 29/30\n",
            "259/259 [==============================] - 8s 32ms/step - loss: 1.6524 - accuracy: 0.3413 - val_loss: 1.6266 - val_accuracy: 0.3556\n",
            "\n",
            "Epoch 00029: val_accuracy improved from 0.35214 to 0.35563, saving model to /content/drive/My Drive/Colab Notebooks/weights/FER_model_weights/lenet_weights6.hdf5\n",
            "Epoch 30/30\n",
            "259/259 [==============================] - 8s 32ms/step - loss: 1.6493 - accuracy: 0.3414 - val_loss: 1.6287 - val_accuracy: 0.3567\n",
            "\n",
            "Epoch 00030: val_accuracy improved from 0.35563 to 0.35667, saving model to /content/drive/My Drive/Colab Notebooks/weights/FER_model_weights/lenet_weights6.hdf5\n"
          ],
          "name": "stdout"
        }
      ]
    },
    {
      "cell_type": "code",
      "metadata": {
        "id": "-7t0Ku45Jmqt"
      },
      "source": [
        "model6.load_weights(weight_add(6))"
      ],
      "execution_count": null,
      "outputs": []
    },
    {
      "cell_type": "code",
      "metadata": {
        "colab": {
          "base_uri": "https://localhost:8080/"
        },
        "id": "WqAO5IbHJp79",
        "outputId": "1affdcca-4540-4068-c390-e058e4882e5f"
      },
      "source": [
        "#1.644 is the test loss and 0.3513 is the test accuracy\n",
        "model6.evaluate(x=x_test_temp, y=to_categorical(y_test))"
      ],
      "execution_count": null,
      "outputs": [
        {
          "output_type": "stream",
          "text": [
            "113/113 [==============================] - 36s 19ms/step - loss: 1.6419 - accuracy: 0.3595\n"
          ],
          "name": "stdout"
        },
        {
          "output_type": "execute_result",
          "data": {
            "text/plain": [
              "[1.6441015005111694, 0.3513513505458832]"
            ]
          },
          "metadata": {
            "tags": []
          },
          "execution_count": 32
        }
      ]
    },
    {
      "cell_type": "code",
      "metadata": {
        "id": "qU5Y_o5Nya6l"
      },
      "source": [
        "#we now want to check if increasing the size of the images increase the accuracy of ResNet-50 model\n",
        "x_temp = np.array(image_resize_expand(x, 64)) #x_temp has shape of (64x64)\n",
        "x_test_temp = np.array(image_resize_expand(x_test, 64))"
      ],
      "execution_count": null,
      "outputs": []
    },
    {
      "cell_type": "code",
      "metadata": {
        "id": "QKVIGfoiInWq"
      },
      "source": [
        "x_temp = np.array(im_resize(x_temp, 64)) #x_temp has shape of (64x64x3)\n",
        "x_test_temp = np.array(im_resize(x_test_temp, 64))"
      ],
      "execution_count": null,
      "outputs": []
    },
    {
      "cell_type": "code",
      "metadata": {
        "id": "zeKgrz11KG8A"
      },
      "source": [
        "model7 = resnet_model2(64) #model7 is the ResNet-50 architecture with input shape of nx64x64x3  "
      ],
      "execution_count": null,
      "outputs": []
    },
    {
      "cell_type": "code",
      "metadata": {
        "colab": {
          "base_uri": "https://localhost:8080/"
        },
        "id": "e6thWGuQKNOj",
        "outputId": "528461e8-f89d-4059-b67f-675f5623d245"
      },
      "source": [
        "model7.summary()"
      ],
      "execution_count": null,
      "outputs": [
        {
          "output_type": "stream",
          "text": [
            "Model: \"sequential_1\"\n",
            "_________________________________________________________________\n",
            "Layer (type)                 Output Shape              Param #   \n",
            "=================================================================\n",
            "model_6 (Functional)         (None, 8192)              23587712  \n",
            "_________________________________________________________________\n",
            "dense_12 (Dense)             (None, 256)               2097408   \n",
            "_________________________________________________________________\n",
            "dropout_8 (Dropout)          (None, 256)               0         \n",
            "_________________________________________________________________\n",
            "dense_13 (Dense)             (None, 128)               32896     \n",
            "_________________________________________________________________\n",
            "dropout_9 (Dropout)          (None, 128)               0         \n",
            "_________________________________________________________________\n",
            "dense_14 (Dense)             (None, 7)                 903       \n",
            "=================================================================\n",
            "Total params: 25,718,919\n",
            "Trainable params: 2,131,207\n",
            "Non-trainable params: 23,587,712\n",
            "_________________________________________________________________\n"
          ],
          "name": "stdout"
        }
      ]
    },
    {
      "cell_type": "code",
      "metadata": {
        "colab": {
          "base_uri": "https://localhost:8080/"
        },
        "id": "rS9rsgOxKOP5",
        "outputId": "d140cf31-220b-4eb0-d662-ed5c59221056"
      },
      "source": [
        "model_train(model7, 7, x_temp, y)"
      ],
      "execution_count": null,
      "outputs": [
        {
          "output_type": "stream",
          "text": [
            "Epoch 1/30\n",
            "259/259 [==============================] - 48s 49ms/step - loss: 1.8914 - accuracy: 0.2143 - val_loss: 1.7940 - val_accuracy: 0.2640\n",
            "\n",
            "Epoch 00001: val_accuracy improved from -inf to 0.26402, saving model to /content/drive/My Drive/Colab Notebooks/weights/FER_model_weights/lenet_weights7.hdf5\n",
            "Epoch 2/30\n",
            "259/259 [==============================] - 11s 41ms/step - loss: 1.8011 - accuracy: 0.2520 - val_loss: 1.7633 - val_accuracy: 0.2679\n",
            "\n",
            "Epoch 00002: val_accuracy improved from 0.26402 to 0.26785, saving model to /content/drive/My Drive/Colab Notebooks/weights/FER_model_weights/lenet_weights7.hdf5\n",
            "Epoch 3/30\n",
            "259/259 [==============================] - 11s 41ms/step - loss: 1.7783 - accuracy: 0.2671 - val_loss: 1.7391 - val_accuracy: 0.2929\n",
            "\n",
            "Epoch 00003: val_accuracy improved from 0.26785 to 0.29293, saving model to /content/drive/My Drive/Colab Notebooks/weights/FER_model_weights/lenet_weights7.hdf5\n",
            "Epoch 4/30\n",
            "259/259 [==============================] - 11s 42ms/step - loss: 1.7624 - accuracy: 0.2809 - val_loss: 1.7217 - val_accuracy: 0.3072\n",
            "\n",
            "Epoch 00004: val_accuracy improved from 0.29293 to 0.30721, saving model to /content/drive/My Drive/Colab Notebooks/weights/FER_model_weights/lenet_weights7.hdf5\n",
            "Epoch 5/30\n",
            "259/259 [==============================] - 11s 42ms/step - loss: 1.7433 - accuracy: 0.2910 - val_loss: 1.7021 - val_accuracy: 0.3243\n",
            "\n",
            "Epoch 00005: val_accuracy improved from 0.30721 to 0.32428, saving model to /content/drive/My Drive/Colab Notebooks/weights/FER_model_weights/lenet_weights7.hdf5\n",
            "Epoch 6/30\n",
            "259/259 [==============================] - 11s 42ms/step - loss: 1.7254 - accuracy: 0.3058 - val_loss: 1.6997 - val_accuracy: 0.3368\n",
            "\n",
            "Epoch 00006: val_accuracy improved from 0.32428 to 0.33682, saving model to /content/drive/My Drive/Colab Notebooks/weights/FER_model_weights/lenet_weights7.hdf5\n",
            "Epoch 7/30\n",
            "259/259 [==============================] - 11s 42ms/step - loss: 1.7165 - accuracy: 0.3028 - val_loss: 1.6770 - val_accuracy: 0.3330\n",
            "\n",
            "Epoch 00007: val_accuracy did not improve from 0.33682\n",
            "Epoch 8/30\n",
            "259/259 [==============================] - 11s 43ms/step - loss: 1.7039 - accuracy: 0.3149 - val_loss: 1.6621 - val_accuracy: 0.3501\n",
            "\n",
            "Epoch 00008: val_accuracy improved from 0.33682 to 0.35005, saving model to /content/drive/My Drive/Colab Notebooks/weights/FER_model_weights/lenet_weights7.hdf5\n",
            "Epoch 9/30\n",
            "259/259 [==============================] - 11s 43ms/step - loss: 1.6896 - accuracy: 0.3279 - val_loss: 1.6626 - val_accuracy: 0.3476\n",
            "\n",
            "Epoch 00009: val_accuracy did not improve from 0.35005\n",
            "Epoch 10/30\n",
            "259/259 [==============================] - 11s 43ms/step - loss: 1.6795 - accuracy: 0.3299 - val_loss: 1.6918 - val_accuracy: 0.3271\n",
            "\n",
            "Epoch 00010: val_accuracy did not improve from 0.35005\n",
            "Epoch 11/30\n",
            "259/259 [==============================] - 11s 43ms/step - loss: 1.6882 - accuracy: 0.3300 - val_loss: 1.6510 - val_accuracy: 0.3535\n",
            "\n",
            "Epoch 00011: val_accuracy improved from 0.35005 to 0.35354, saving model to /content/drive/My Drive/Colab Notebooks/weights/FER_model_weights/lenet_weights7.hdf5\n",
            "Epoch 12/30\n",
            "259/259 [==============================] - 11s 43ms/step - loss: 1.6713 - accuracy: 0.3395 - val_loss: 1.6551 - val_accuracy: 0.3483\n",
            "\n",
            "Epoch 00012: val_accuracy did not improve from 0.35354\n",
            "Epoch 13/30\n",
            "259/259 [==============================] - 11s 42ms/step - loss: 1.6659 - accuracy: 0.3385 - val_loss: 1.6524 - val_accuracy: 0.3501\n",
            "\n",
            "Epoch 00013: val_accuracy did not improve from 0.35354\n",
            "Epoch 14/30\n",
            "259/259 [==============================] - 11s 42ms/step - loss: 1.6623 - accuracy: 0.3435 - val_loss: 1.6383 - val_accuracy: 0.3584\n",
            "\n",
            "Epoch 00014: val_accuracy improved from 0.35354 to 0.35841, saving model to /content/drive/My Drive/Colab Notebooks/weights/FER_model_weights/lenet_weights7.hdf5\n",
            "Epoch 15/30\n",
            "259/259 [==============================] - 11s 43ms/step - loss: 1.6539 - accuracy: 0.3461 - val_loss: 1.6464 - val_accuracy: 0.3476\n",
            "\n",
            "Epoch 00015: val_accuracy did not improve from 0.35841\n",
            "Epoch 16/30\n",
            "259/259 [==============================] - 11s 43ms/step - loss: 1.6539 - accuracy: 0.3444 - val_loss: 1.6293 - val_accuracy: 0.3581\n",
            "\n",
            "Epoch 00016: val_accuracy did not improve from 0.35841\n",
            "Epoch 17/30\n",
            "259/259 [==============================] - 11s 43ms/step - loss: 1.6464 - accuracy: 0.3507 - val_loss: 1.6307 - val_accuracy: 0.3675\n",
            "\n",
            "Epoch 00017: val_accuracy improved from 0.35841 to 0.36747, saving model to /content/drive/My Drive/Colab Notebooks/weights/FER_model_weights/lenet_weights7.hdf5\n",
            "Epoch 18/30\n",
            "259/259 [==============================] - 11s 43ms/step - loss: 1.6413 - accuracy: 0.3489 - val_loss: 1.6398 - val_accuracy: 0.3615\n",
            "\n",
            "Epoch 00018: val_accuracy did not improve from 0.36747\n",
            "Epoch 19/30\n",
            "259/259 [==============================] - 11s 43ms/step - loss: 1.6451 - accuracy: 0.3519 - val_loss: 1.6375 - val_accuracy: 0.3640\n",
            "\n",
            "Epoch 00019: val_accuracy did not improve from 0.36747\n",
            "Epoch 20/30\n",
            "259/259 [==============================] - 11s 43ms/step - loss: 1.6368 - accuracy: 0.3519 - val_loss: 1.6197 - val_accuracy: 0.3720\n",
            "\n",
            "Epoch 00020: val_accuracy improved from 0.36747 to 0.37200, saving model to /content/drive/My Drive/Colab Notebooks/weights/FER_model_weights/lenet_weights7.hdf5\n",
            "Epoch 21/30\n",
            "259/259 [==============================] - 11s 43ms/step - loss: 1.6264 - accuracy: 0.3609 - val_loss: 1.6287 - val_accuracy: 0.3654\n",
            "\n",
            "Epoch 00021: val_accuracy did not improve from 0.37200\n",
            "Epoch 22/30\n",
            "259/259 [==============================] - 11s 43ms/step - loss: 1.6344 - accuracy: 0.3554 - val_loss: 1.6146 - val_accuracy: 0.3661\n",
            "\n",
            "Epoch 00022: val_accuracy did not improve from 0.37200\n",
            "Epoch 23/30\n",
            "259/259 [==============================] - 11s 43ms/step - loss: 1.6333 - accuracy: 0.3585 - val_loss: 1.6156 - val_accuracy: 0.3762\n",
            "\n",
            "Epoch 00023: val_accuracy improved from 0.37200 to 0.37618, saving model to /content/drive/My Drive/Colab Notebooks/weights/FER_model_weights/lenet_weights7.hdf5\n",
            "Epoch 24/30\n",
            "259/259 [==============================] - 11s 43ms/step - loss: 1.6155 - accuracy: 0.3645 - val_loss: 1.6148 - val_accuracy: 0.3696\n",
            "\n",
            "Epoch 00024: val_accuracy did not improve from 0.37618\n",
            "Epoch 25/30\n",
            "259/259 [==============================] - 11s 43ms/step - loss: 1.6277 - accuracy: 0.3607 - val_loss: 1.6065 - val_accuracy: 0.3779\n",
            "\n",
            "Epoch 00025: val_accuracy improved from 0.37618 to 0.37792, saving model to /content/drive/My Drive/Colab Notebooks/weights/FER_model_weights/lenet_weights7.hdf5\n",
            "Epoch 26/30\n",
            "259/259 [==============================] - 11s 43ms/step - loss: 1.6199 - accuracy: 0.3614 - val_loss: 1.6059 - val_accuracy: 0.3685\n",
            "\n",
            "Epoch 00026: val_accuracy did not improve from 0.37792\n",
            "Epoch 27/30\n",
            "259/259 [==============================] - 11s 42ms/step - loss: 1.6197 - accuracy: 0.3620 - val_loss: 1.6057 - val_accuracy: 0.3769\n",
            "\n",
            "Epoch 00027: val_accuracy did not improve from 0.37792\n",
            "Epoch 28/30\n",
            "259/259 [==============================] - 11s 42ms/step - loss: 1.6238 - accuracy: 0.3645 - val_loss: 1.6128 - val_accuracy: 0.3678\n",
            "\n",
            "Epoch 00028: ReduceLROnPlateau reducing learning rate to 6.25000029685907e-05.\n",
            "\n",
            "Epoch 00028: val_accuracy did not improve from 0.37792\n",
            "Epoch 29/30\n",
            "259/259 [==============================] - 11s 42ms/step - loss: 1.6019 - accuracy: 0.3700 - val_loss: 1.5950 - val_accuracy: 0.3762\n",
            "\n",
            "Epoch 00029: val_accuracy did not improve from 0.37792\n",
            "Epoch 30/30\n",
            "259/259 [==============================] - 11s 42ms/step - loss: 1.6042 - accuracy: 0.3782 - val_loss: 1.5981 - val_accuracy: 0.3734\n",
            "\n",
            "Epoch 00030: val_accuracy did not improve from 0.37792\n"
          ],
          "name": "stdout"
        }
      ]
    },
    {
      "cell_type": "code",
      "metadata": {
        "id": "V5zehDsxaQ5m"
      },
      "source": [
        "model7.load_weights(weight_add(7))"
      ],
      "execution_count": null,
      "outputs": []
    },
    {
      "cell_type": "code",
      "metadata": {
        "id": "CFCrPuPk1x2M",
        "colab": {
          "base_uri": "https://localhost:8080/"
        },
        "outputId": "603f5baf-2898-459a-bbe0-725709d7ebd8"
      },
      "source": [
        "#increasing the input size of the images increased the testing accuracy by 2%. So it might be possible that increasing the\n",
        "#size of the images more will also increase the accuracy of the model. As there are many convolutional layers in the model, using \n",
        "#a larger image resolution may increase the accuracy of the model. Due to lack of computation resources we have used a smaller image \n",
        "#resolution of 64x64.\n",
        "model7.evaluate(x=x_test_temp, y=to_categorical(y_test))"
      ],
      "execution_count": null,
      "outputs": [
        {
          "output_type": "stream",
          "text": [
            "113/113 [==============================] - 3s 23ms/step - loss: 1.6082 - accuracy: 0.3697\n"
          ],
          "name": "stdout"
        },
        {
          "output_type": "execute_result",
          "data": {
            "text/plain": [
              "[1.608173131942749, 0.36974087357521057]"
            ]
          },
          "metadata": {
            "tags": []
          },
          "execution_count": 25
        }
      ]
    },
    {
      "cell_type": "code",
      "metadata": {
        "id": "MeTO-b1id-xY"
      },
      "source": [
        "# We have used total 7 models.\n",
        "# model1 is the LeNet-5 with the same parameters used in the LeNet-5 paper. This gave a validation accuracy of 0.4953 and test accuracy of 0.4890\n",
        "# model2 is the modified LeNet-5 with the same parameters used in the LeNet-5 paper with an extra conv layer. This model gave a validation accuracy of 0.5050 and test accuracy of 0.4981.\n",
        "# model3 is the modified LeNet-5 with the different parameters as described before. This gave a validation accuracy of 0.5646 and test accuracy of 0.5676.\n",
        "# model4 is the modified LeNet-5 with input shape of (n, 48,48,1). This produced the best validation and test accuracy (0.5855 and 0.5890 respectively).\n",
        "# using a shape of (n, 64, 64, 1) decreased the accuracy of the model5 than model4.\n",
        "# we have used padding = 'same' for model4 and model5, which generated testing accuracy of 0.5779 and 0.5637 respectively. We got better accuracy when we used padding = 'valid' for these models.\n",
        "# model6 and model7 are ResNet-50 architecture with different input shapes."
      ],
      "execution_count": null,
      "outputs": []
    },
    {
      "cell_type": "markdown",
      "metadata": {
        "id": "RnsL56UphwtP"
      },
      "source": [
        "GitHub repository of the project: https://github.com/ShawkhIbneRashid/Facial-expression-classifier-and-model-deployment"
      ]
    },
    {
      "cell_type": "code",
      "metadata": {
        "id": "BbJLtbX3jrkr"
      },
      "source": [
        ""
      ],
      "execution_count": null,
      "outputs": []
    }
  ]
}